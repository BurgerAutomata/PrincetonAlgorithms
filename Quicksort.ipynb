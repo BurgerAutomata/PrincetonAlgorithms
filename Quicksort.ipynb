{
 "cells": [
  {
   "cell_type": "markdown",
   "metadata": {
    "colab_type": "text",
    "id": "view-in-github"
   },
   "source": [
    "[View in Colaboratory](https://colab.research.google.com/github/BurgerAutomata/PrincetonAlgorithms/blob/master/Quicksort.ipynb)"
   ]
  },
  {
   "cell_type": "markdown",
   "metadata": {
    "colab_type": "text",
    "id": "sZfhOJ-DJ5Sp"
   },
   "source": [
    "Solving programming assignment of Week 3 in Coursera Course. Solutions will be compared for performance\n",
    "\n",
    "*Your task is to compute the total number of comparisons used to sort the given input file by QuickSort. As you know, the number of comparisons depends on which elements are chosen as pivots, so we'll ask you to explore three different pivoting rules.*\n"
   ]
  },
  {
   "cell_type": "code",
   "execution_count": 1,
   "metadata": {
    "colab": {},
    "colab_type": "code",
    "collapsed": true,
    "id": "TzA19NgFvxuG"
   },
   "outputs": [],
   "source": [
    "import numpy as np\n",
    "import sys"
   ]
  },
  {
   "cell_type": "code",
   "execution_count": 2,
   "metadata": {
    "colab": {},
    "colab_type": "code",
    "collapsed": true,
    "id": "g_ulncurrzdB"
   },
   "outputs": [],
   "source": [
    "#All of these are necessary because of recursion limits!\n",
    "sys.getrecursionlimit()\n",
    "\n",
    "sys.setrecursionlimit(2000)\n",
    "\n",
    "_CUTOFF = 1536"
   ]
  },
  {
   "cell_type": "code",
   "execution_count": 3,
   "metadata": {
    "colab": {
     "base_uri": "https://localhost:8080/",
     "height": 90,
     "resources": {
      "http://localhost:8080/nbextensions/google.colab/files.js": {
       "data": "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",
       "headers": [
        [
         "content-type",
         "application/javascript"
        ]
       ],
       "ok": true,
       "status": 200,
       "status_text": ""
      }
     }
    },
    "colab_type": "code",
    "collapsed": true,
    "id": "_Sz0WemGKOSe",
    "outputId": "ec33d7d0-eb4d-45b6-a776-143094ac6498"
   },
   "outputs": [],
   "source": [
    "#neat import from local files\n",
    "with open('QuickSort.txt', 'r') as file:\n",
    "    input_array = [int(x) for x in file]"
   ]
  },
  {
   "cell_type": "code",
   "execution_count": 4,
   "metadata": {
    "colab": {
     "base_uri": "https://localhost:8080/",
     "height": 52
    },
    "colab_type": "code",
    "id": "ILxOYhnHKYV5",
    "outputId": "af38062f-2457-4b4b-86a1-4a4b9e2a0648"
   },
   "outputs": [
    {
     "name": "stdout",
     "output_type": "stream",
     "text": [
      "<class 'list'>\n",
      "<class 'list'>\n",
      "<class 'int'>\n"
     ]
    }
   ],
   "source": [
    "#print(uploaded.keys())\n",
    "print(type(input_array ))\n",
    "array_file=list(input_array)\n",
    "print(type(array_file))\n",
    "print(type(array_file[0]))"
   ]
  },
  {
   "cell_type": "code",
   "execution_count": 5,
   "metadata": {
    "colab": {
     "base_uri": "https://localhost:8080/",
     "height": 34
    },
    "colab_type": "code",
    "id": "hNUqjBlkKiqG",
    "outputId": "9ac92c74-12ae-40aa-f586-b7fc0bf81f0b"
   },
   "outputs": [
    {
     "data": {
      "text/plain": [
       "True"
      ]
     },
     "execution_count": 5,
     "metadata": {},
     "output_type": "execute_result"
    }
   ],
   "source": [
    "all(isinstance(x, int) for x in array_file)"
   ]
  },
  {
   "cell_type": "code",
   "execution_count": 6,
   "metadata": {
    "colab": {},
    "colab_type": "code",
    "collapsed": true,
    "id": "Am9aqExJLO8o"
   },
   "outputs": [],
   "source": [
    "#Test cases. Use first n of test array. The following results are from pivot as first\n",
    "#element, pivot as last and pivot as median\n",
    "tests={'A': [10, 25, 31, 21],\n",
    "       'B': [100, 620, 573, 502],\n",
    "       'C': [1000, 11175, 10957, 9735]}\n",
    "test_list=['A','B','C']"
   ]
  },
  {
   "cell_type": "code",
   "execution_count": 7,
   "metadata": {},
   "outputs": [
    {
     "name": "stdout",
     "output_type": "stream",
     "text": [
      "[2148, 9058, 7742, 3153, 6324, 609, 7628, 5469, 7017, 504, 4092, 1582, 9572, 1542, 5697, 2081, 4218, 3130, 7923, 9595, 6558, 3859, 9832, 3062, 6788, 7578, 7432, 479, 8439, 9079]\n"
     ]
    }
   ],
   "source": [
    "print(array_file[:30])"
   ]
  },
  {
   "cell_type": "code",
   "execution_count": null,
   "metadata": {
    "collapsed": true
   },
   "outputs": [],
   "source": []
  },
  {
   "cell_type": "markdown",
   "metadata": {
    "colab_type": "text",
    "id": "VO5jCL_3Kogs"
   },
   "source": [
    "\n",
    "\n",
    "---\n",
    "\n",
    "# Problem 1\n",
    "For the first part of the programming assignment, you should always use the first element of the array as the pivot element.\n",
    "\n"
   ]
  },
  {
   "cell_type": "code",
   "execution_count": 8,
   "metadata": {
    "colab": {},
    "colab_type": "code",
    "collapsed": true,
    "id": "h2LmR_wilvxI"
   },
   "outputs": [],
   "source": [
    "#let us try to define a partition in place\n",
    "def partition(target):\n",
    "    \n",
    "  #initialize index of smallest element\n",
    "    i=1\n",
    "    right=len(target)\n",
    "  #pivot is leftmost\n",
    "  #if rightmost piv = target[right]\n",
    "  #if median piv = target[right+left//2]\n",
    "    piv=target[0]\n",
    "  #body of function\n",
    "  #inplace selects the smallest\n",
    "    for j in range(1,right):\n",
    "    #swap loop\n",
    "        if target[j]<piv:\n",
    "            target[i],target[j]=target[j],target[i]\n",
    "            i+=1\n",
    "    target[i-1],target[0]=target[0],target[i-1]     \n",
    "    return i\n",
    "    \n",
    "def QuickSort(target):\n",
    "  #Code body\n",
    "  #count comparisons\n",
    "    comps=0\n",
    "  #base case\n",
    "    if len(target)<=1:\n",
    "        return target,comps\n",
    "  #partition\n",
    "    prt=partition(target)\n",
    "    comps+=len(target)-1\n",
    "    #print(comps)\n",
    "  #Quicksort recursive\n",
    "    target[:prt-1],compsL=QuickSort(target[:prt-1])\n",
    "    target[prt:],compsR=QuickSort(target[prt:])\n",
    "    comps+=(compsL+compsR)\n",
    "    return target, comps"
   ]
  },
  {
   "cell_type": "code",
   "execution_count": 9,
   "metadata": {
    "colab": {
     "base_uri": "https://localhost:8080/",
     "height": 554
    },
    "colab_type": "code",
    "id": "-gkRw9ypV5pM",
    "outputId": "83da126a-9407-495f-fce3-de46d0e13944"
   },
   "outputs": [
    {
     "name": "stdout",
     "output_type": "stream",
     "text": [
      "n=  10\n",
      "25\n",
      "25\n",
      "True\n",
      "True\n",
      "True\n",
      "n=  100\n",
      "620\n",
      "620\n",
      "True\n",
      "True\n",
      "True\n",
      "n=  1000\n",
      "11175\n",
      "11175\n",
      "True\n",
      "True\n",
      "True\n"
     ]
    }
   ],
   "source": [
    "#case for FIRST\n",
    "ind=0\n",
    "for name in test_list:\n",
    "    currentS=tests[name].copy()\n",
    "    #first n numbers\n",
    "    en=currentS.pop(0)\n",
    "    print('n= ',en)\n",
    "    #slice file until first n numbers\n",
    "    tester=array_file[:en]\n",
    "    tgtList,comparisons=QuickSort(tester)\n",
    "    print(comparisons)\n",
    "    print(currentS[ind])\n",
    "    print(comparisons==currentS[ind])  \n",
    "    print(tgtList ==sorted(tester))\n",
    "    print(len(tgtList)==len(sorted(tester)))"
   ]
  },
  {
   "cell_type": "code",
   "execution_count": 10,
   "metadata": {},
   "outputs": [
    {
     "name": "stdout",
     "output_type": "stream",
     "text": [
      "Comparisons for First Case  162085\n"
     ]
    }
   ],
   "source": [
    "#REAL Answers\n",
    "tgtList,comparisons=QuickSort(array_file.copy())\n",
    "print('Comparisons for First Case ',comparisons)"
   ]
  },
  {
   "cell_type": "code",
   "execution_count": 11,
   "metadata": {
    "colab": {
     "base_uri": "https://localhost:8080/",
     "height": 52
    },
    "colab_type": "code",
    "id": "El7FLWk7b_nS",
    "outputId": "d3bea71a-f631-4a85-cb7f-1ca261b5de08"
   },
   "outputs": [
    {
     "name": "stdout",
     "output_type": "stream",
     "text": [
      "1\n",
      "[2, 3]\n"
     ]
    }
   ],
   "source": [
    "tes=[1,2,3]\n",
    "print(tes.pop(0))\n",
    "print(tes)"
   ]
  },
  {
   "cell_type": "code",
   "execution_count": 12,
   "metadata": {
    "collapsed": true
   },
   "outputs": [],
   "source": [
    "#From the forum\n",
    "def Partition(A):\n",
    "    q = A[0]\n",
    "    i = 1\n",
    "    for j in range(1, len(A)):\n",
    "        if A[j] < q:\n",
    "\n",
    "            A[j], A[i] = A[i], A[j]\n",
    "\n",
    "            i = i + 1\n",
    "    A[0], A[i - 1] = A[i - 1], A[0]\n",
    "    return i - 1\n",
    "\n",
    "def QuickSort(A):\n",
    "    count=0\n",
    "    if len(A) <= 1:\n",
    "        return A,count\n",
    "    else:\n",
    "        q = Partition(A)\n",
    "        count+=len(A)-1\n",
    "        A[ : q],countL = QuickSort(A[ : q])\n",
    "        A[q + 1 : ],countR = QuickSort(A[q + 1 : ])\n",
    "        count+=countL+countR\n",
    "        return A,count"
   ]
  },
  {
   "cell_type": "code",
   "execution_count": 13,
   "metadata": {},
   "outputs": [
    {
     "name": "stdout",
     "output_type": "stream",
     "text": [
      "n=  10\n",
      "25\n",
      "25\n",
      "True\n",
      "True\n",
      "True\n",
      "n=  100\n",
      "620\n",
      "620\n",
      "True\n",
      "True\n",
      "True\n",
      "n=  1000\n",
      "11175\n",
      "11175\n",
      "True\n",
      "True\n",
      "True\n"
     ]
    }
   ],
   "source": [
    "#case for FIRST\n",
    "ind=0\n",
    "for name in test_list:\n",
    "    currentS=tests[name].copy()\n",
    "    #first n numbers\n",
    "    en=currentS.pop(0)\n",
    "    print('n= ',en)\n",
    "    #slice file until first n numbers\n",
    "    tester=array_file[:en]\n",
    "    #print('Slice to be tested ',tester)\n",
    "    tgtList,comparisons=QuickSort(tester)\n",
    "    print(comparisons)\n",
    "    print(currentS[ind])\n",
    "    print(comparisons==currentS[ind])  \n",
    "    print(tgtList ==sorted(tester))\n",
    "    print(len(tgtList)==len(sorted(tester)))\n",
    "    #print(tester)\n",
    "    #print(tgtList)"
   ]
  },
  {
   "cell_type": "markdown",
   "metadata": {},
   "source": [
    "Why is this above working? What is the difference in the recursion state?\n",
    "<br>\n",
    "One of the important differences it that a copy is passed along, a copy that was sliced, instead of the whole thing."
   ]
  },
  {
   "cell_type": "markdown",
   "metadata": {
    "colab_type": "text",
    "id": "VO5jCL_3Kogs"
   },
   "source": [
    "---\n",
    "\n",
    "# Problem 2\n",
    "For the first part of the programming assignment, you should always use the *last* element of the array as the pivot element.\n",
    "\n"
   ]
  },
  {
   "cell_type": "code",
   "execution_count": 14,
   "metadata": {
    "colab": {},
    "colab_type": "code",
    "collapsed": true,
    "id": "h2LmR_wilvxI"
   },
   "outputs": [],
   "source": [
    "#let us try to define a partition in place\n",
    "def partition(target):\n",
    "    \n",
    "    target[0],target[-1]=target[-1],target[0]\n",
    "    \n",
    "  #initialize index of smallest element\n",
    "    i=1\n",
    "    right=len(target)\n",
    "  #pivot is leftmost\n",
    "  #if rightmost piv = target[right]\n",
    "  #if median piv = target[right+left//2]\n",
    "    piv=target[0]\n",
    "  #body of function\n",
    "  #inplace selects the smallest\n",
    "    for j in range(1,right):\n",
    "    #swap loop\n",
    "        if target[j]<piv:\n",
    "            target[i],target[j]=target[j],target[i]\n",
    "            i+=1\n",
    "    target[i-1],target[0]=target[0],target[i-1]     \n",
    "    return i\n",
    "    \n",
    "def QuickSort(target):\n",
    "  #Code body\n",
    "  #count comparisons\n",
    "    comps=0\n",
    "  #base case\n",
    "    if len(target)<=1:\n",
    "        return target,comps\n",
    "  #partition\n",
    "    prt=partition(target)\n",
    "    comps+=len(target)-1\n",
    "    #print(comps)\n",
    "  #Quicksort recursive\n",
    "    target[:prt-1],compsL=QuickSort(target[:prt-1])\n",
    "    target[prt:],compsR=QuickSort(target[prt:])\n",
    "    comps+=(compsL+compsR)\n",
    "    return target, comps"
   ]
  },
  {
   "cell_type": "code",
   "execution_count": 15,
   "metadata": {
    "colab": {
     "base_uri": "https://localhost:8080/",
     "height": 554
    },
    "colab_type": "code",
    "id": "-gkRw9ypV5pM",
    "outputId": "83da126a-9407-495f-fce3-de46d0e13944"
   },
   "outputs": [
    {
     "name": "stdout",
     "output_type": "stream",
     "text": [
      "n=  10\n",
      "31\n",
      "31\n",
      "True\n",
      "True\n",
      "True\n",
      "n=  100\n",
      "573\n",
      "573\n",
      "True\n",
      "True\n",
      "True\n",
      "n=  1000\n",
      "10957\n",
      "10957\n",
      "True\n",
      "True\n",
      "True\n"
     ]
    }
   ],
   "source": [
    "#case for SECOND\n",
    "ind=1\n",
    "for name in test_list:\n",
    "    currentS=tests[name].copy()\n",
    "    #first n numbers\n",
    "    en=currentS.pop(0)\n",
    "    print('n= ',en)\n",
    "    #slice file until first n numbers\n",
    "    tester=array_file[:en]\n",
    "    tgtList,comparisons=QuickSort(tester)\n",
    "    print(comparisons)\n",
    "    print(currentS[ind])\n",
    "    print(comparisons==currentS[ind])  \n",
    "    print(tgtList ==sorted(tester))\n",
    "    print(len(tgtList)==len(sorted(tester)))"
   ]
  },
  {
   "cell_type": "code",
   "execution_count": 16,
   "metadata": {},
   "outputs": [
    {
     "name": "stdout",
     "output_type": "stream",
     "text": [
      "Comparisons for Second Case  164123\n"
     ]
    }
   ],
   "source": [
    "#REAL Answers\n",
    "tgtList,comparisons=QuickSort(array_file.copy())\n",
    "print('Comparisons for Second Case ',comparisons)"
   ]
  },
  {
   "cell_type": "code",
   "execution_count": 17,
   "metadata": {
    "collapsed": true
   },
   "outputs": [],
   "source": [
    "#From the forum\n",
    "def Partition(A):\n",
    "    #switch over to the other side\n",
    "    A[0],A[-1]=A[-1],A[0]\n",
    "    q=A[0]\n",
    "    i = 1\n",
    "    for j in range(1, len(A)):\n",
    "        if A[j] < q:\n",
    "\n",
    "            A[j], A[i] = A[i], A[j]\n",
    "\n",
    "            i = i + 1\n",
    "    A[0], A[i - 1] = A[i - 1], A[0]\n",
    "    return i - 1\n",
    "\n",
    "def QuickSort(A):\n",
    "    count=0\n",
    "    if len(A) <= 1:\n",
    "        return A,count\n",
    "    else:\n",
    "        q = Partition(A)\n",
    "        count+=len(A)-1\n",
    "        A[ : q],countL = QuickSort(A[ : q])\n",
    "        A[q + 1 : ],countR = QuickSort(A[q + 1 : ])\n",
    "        count+=countL+countR\n",
    "        return A,count"
   ]
  },
  {
   "cell_type": "code",
   "execution_count": 18,
   "metadata": {},
   "outputs": [
    {
     "name": "stdout",
     "output_type": "stream",
     "text": [
      "n=  10\n",
      "31\n",
      "31\n",
      "True\n",
      "True\n",
      "True\n",
      "n=  100\n",
      "573\n",
      "573\n",
      "True\n",
      "True\n",
      "True\n",
      "n=  1000\n",
      "10957\n",
      "10957\n",
      "True\n",
      "True\n",
      "True\n"
     ]
    }
   ],
   "source": [
    "ind=1\n",
    "for name in test_list:\n",
    "    currentS=tests[name].copy()\n",
    "    #first n numbers\n",
    "    en=currentS.pop(0)\n",
    "    print('n= ',en)\n",
    "    #slice file until first n numbers\n",
    "    tester=array_file[:en]\n",
    "    #print('Slice to be tested ',tester)\n",
    "    tgtList,comparisons=QuickSort(tester)\n",
    "    print(comparisons)\n",
    "    print(currentS[ind])\n",
    "    print(comparisons==currentS[ind])  \n",
    "    print(tgtList ==sorted(tester))\n",
    "    print(len(tgtList)==len(sorted(tester)))\n",
    "    #print(tester)\n",
    "    #print(tgtList)"
   ]
  },
  {
   "cell_type": "markdown",
   "metadata": {
    "colab_type": "text",
    "id": "VO5jCL_3Kogs"
   },
   "source": [
    "---\n",
    "\n",
    "# Problem 3\n",
    "For the third part of the programming assignment, you should always use the *median* element of the array as the pivot element.\n",
    "\n"
   ]
  },
  {
   "cell_type": "markdown",
   "metadata": {
    "colab": {},
    "colab_type": "code",
    "collapsed": true,
    "id": "h2LmR_wilvxI"
   },
   "source": [
    "The above are correct, this is still work inprogress"
   ]
  },
  {
   "cell_type": "markdown",
   "metadata": {},
   "source": []
  },
  {
   "cell_type": "code",
   "execution_count": 19,
   "metadata": {},
   "outputs": [
    {
     "name": "stdout",
     "output_type": "stream",
     "text": [
      "10\n",
      "7\n",
      "4\n",
      "2\n",
      "6\n",
      "9\n",
      "16\n",
      "13\n",
      "12\n",
      "15\n",
      "18\n"
     ]
    }
   ],
   "source": [
    "#let us try to define a partition in place\n",
    "\n",
    "def medianFinder(target):\n",
    "        \n",
    "    length=len(target)\n",
    "    if (length)%2==0:\n",
    "        mid=(length)//2 -1\n",
    "    else:\n",
    "        mid=(length)//2\n",
    "        \n",
    "    if ( target[0]- target[-1])*(target[mid]-target[0]) >= 0:\n",
    "        med=0\n",
    "\n",
    "    elif (target[-1]-target[0])*(target[mid]-target[-1]) >= 0:\n",
    "        med=-1\n",
    "\n",
    "    else:\n",
    "        med=mid\n",
    "\n",
    "    return med\n",
    "\n",
    "\n",
    "def partition(target):\n",
    "\n",
    "    \n",
    "    length=len(target)\n",
    "    med=medianFinder(target)\n",
    "    #put in place\n",
    "    target[0],target[med]=target[med],target[0]\n",
    "    \n",
    "  #initialize index of smallest element\n",
    "    i=1\n",
    "    right=len(target)\n",
    "  #pivot is leftmost\n",
    "  #if rightmost piv = target[right]\n",
    "  #if median piv = target[right+left//2]\n",
    "    piv=target[0]\n",
    "  #body of function\n",
    "  #inplace selects the smallest\n",
    "    for j in range(1,right):\n",
    "    #swap loop\n",
    "        if target[j]<piv:\n",
    "            target[i],target[j]=target[j],target[i]\n",
    "            i+=1\n",
    "    target[i-1],target[0]=target[0],target[i-1]     \n",
    "    return i\n",
    "    \n",
    "def QuickSort(target):\n",
    "  #Code body\n",
    "  #count comparisons\n",
    "    comps=0\n",
    "  #base case\n",
    "    if len(target)<=1:\n",
    "        return target,comps\n",
    "  #partition\n",
    "    prt=partition(target)\n",
    "    comps+=len(target)-1\n",
    "    #print(comps)\n",
    "  #Quicksort recursive\n",
    "    target[:prt-1],compsL=QuickSort(target[:prt-1])\n",
    "    target[prt:],compsR=QuickSort(target[prt:])\n",
    "    comps+=(compsL+compsR)\n",
    "    return target, comps\n",
    "\n",
    "#Median test\n",
    "    #Find Median of 3\n",
    "\n",
    "\n",
    "listA=[2, 20, 1, 15, 3, 11, 13, 6, 16, 10, 19, 5, 4, 9, 8, 14, 18, 17, 7, 12]\n",
    "print(listA[medianFinder(listA)])\n",
    "\n",
    "listA=[7, 1, 3, 6, 2, 5, 4, 9, 8]\n",
    "print(listA[medianFinder(listA)])\n",
    "\n",
    "listA=[4, 1, 3, 6, 2, 5]\n",
    "print(listA[medianFinder(listA)])\n",
    "\n",
    "listA=[2, 1, 3]\n",
    "print(listA[medianFinder(listA)])\n",
    "\n",
    "listA=[6, 5]\n",
    "print(listA[medianFinder(listA)])\n",
    "\n",
    "listA=[9, 8]\n",
    "print(listA[medianFinder(listA)])\n",
    "\n",
    "listA=[19, 11, 13, 15, 16, 14, 18, 17, 20, 12] \n",
    "print(listA[medianFinder(listA)])\n",
    "\n",
    "listA= [12, 11, 13, 15, 14]\n",
    "print(listA[medianFinder(listA)])\n",
    "\n",
    "listA=[12, 11] \n",
    "print(listA[medianFinder(listA)])\n",
    "\n",
    "listA=[15, 14] \n",
    "print(listA[medianFinder(listA)])\n",
    "\n",
    "listA= [18, 17, 20, 19]\n",
    "print(listA[medianFinder(listA)])"
   ]
  },
  {
   "cell_type": "code",
   "execution_count": 20,
   "metadata": {
    "colab": {
     "base_uri": "https://localhost:8080/",
     "height": 554
    },
    "colab_type": "code",
    "id": "-gkRw9ypV5pM",
    "outputId": "83da126a-9407-495f-fce3-de46d0e13944"
   },
   "outputs": [
    {
     "name": "stdout",
     "output_type": "stream",
     "text": [
      "n=  10\n",
      "21\n",
      "21\n",
      "True\n",
      "True\n",
      "True\n",
      "n=  100\n",
      "502\n",
      "502\n",
      "True\n",
      "True\n",
      "True\n",
      "n=  1000\n",
      "9735\n",
      "9735\n",
      "True\n",
      "True\n",
      "True\n"
     ]
    }
   ],
   "source": [
    "#case for MEDIAN\n",
    "ind=2\n",
    "for name in test_list:\n",
    "    currentS=tests[name].copy()\n",
    "    #first n numbers\n",
    "    en=currentS.pop(0)\n",
    "    print('n= ',en)\n",
    "    #slice file until first n numbers\n",
    "    tester=array_file[:en]\n",
    "    tgtList,comparisons=QuickSort(tester)\n",
    "    print(comparisons)\n",
    "    print(currentS[ind])\n",
    "    print(comparisons==currentS[ind])  \n",
    "    print(tgtList ==sorted(tester))\n",
    "    print(len(tgtList)==len(sorted(tester)))"
   ]
  },
  {
   "cell_type": "code",
   "execution_count": 21,
   "metadata": {},
   "outputs": [
    {
     "name": "stdout",
     "output_type": "stream",
     "text": [
      "Comparisons for Third Case  138382\n",
      "Does it work? True\n"
     ]
    }
   ],
   "source": [
    "#Real Answers\n",
    "tgtList,comparisons=QuickSort(array_file.copy())\n",
    "print('Comparisons for Third Case ',comparisons)\n",
    "print('Does it work?',tgtList ==sorted(array_file.copy()))"
   ]
  },
  {
   "cell_type": "code",
   "execution_count": 22,
   "metadata": {
    "collapsed": true
   },
   "outputs": [],
   "source": [
    "#From the forum\n",
    "def Partition(A):\n",
    "    #switch over to the other side-\n",
    "    length=len(A)\n",
    "    if (length)%2==0:\n",
    "        med=(length-1)//2 \n",
    "    else:\n",
    "        med=(length-1)//2 \n",
    "    A[0],A[med]=A[med],A[0]\n",
    "    q=A[0]\n",
    "    i = 1\n",
    "    for j in range(1, len(A)):\n",
    "        if A[j] < q:\n",
    "\n",
    "            A[j], A[i] = A[i], A[j]\n",
    "\n",
    "            i = i + 1\n",
    "    A[0], A[i - 1] = A[i - 1], A[0]\n",
    "    return i - 1\n",
    "\n",
    "def QuickSort(A):\n",
    "    count=0\n",
    "    if len(A) <= 1:\n",
    "        return A,count\n",
    "    else:\n",
    "        q = Partition(A)\n",
    "        count+=len(A)-1\n",
    "        A[ : q],countL = QuickSort(A[ : q])\n",
    "        A[q + 1 : ],countR = QuickSort(A[q + 1 : ])\n",
    "        count+=countL+countR\n",
    "        return A,count"
   ]
  },
  {
   "cell_type": "code",
   "execution_count": 23,
   "metadata": {},
   "outputs": [
    {
     "name": "stdout",
     "output_type": "stream",
     "text": [
      "5\n"
     ]
    }
   ],
   "source": [
    "print(10//2 )"
   ]
  },
  {
   "cell_type": "code",
   "execution_count": 24,
   "metadata": {},
   "outputs": [
    {
     "name": "stdout",
     "output_type": "stream",
     "text": [
      "n=  10\n",
      "19\n",
      "21\n",
      "False\n",
      "True\n",
      "True\n",
      "n=  100\n",
      "676\n",
      "502\n",
      "False\n",
      "True\n",
      "True\n",
      "n=  1000\n",
      "10851\n",
      "9735\n",
      "False\n",
      "True\n",
      "True\n"
     ]
    }
   ],
   "source": [
    "ind=2\n",
    "for name in test_list:\n",
    "    currentS=tests[name].copy()\n",
    "    #first n numbers\n",
    "    en=currentS.pop(0)\n",
    "    print('n= ',en)\n",
    "    #slice file until first n numbers\n",
    "    tester=array_file[:en]\n",
    "    #print('Slice to be tested ',tester)\n",
    "    tgtList,comparisons=QuickSort(tester)\n",
    "    print(comparisons)\n",
    "    print(currentS[ind])\n",
    "    print(comparisons==currentS[ind])  \n",
    "    print(tgtList ==sorted(tester))\n",
    "    print(len(tgtList)==len(sorted(tester)))\n",
    "    #print(tester)\n",
    "    #print(tgtList)"
   ]
  },
  {
   "cell_type": "code",
   "execution_count": 25,
   "metadata": {},
   "outputs": [
    {
     "name": "stdout",
     "output_type": "stream",
     "text": [
      "Comparisons for Third Case  10851\n"
     ]
    }
   ],
   "source": [
    "#Real Answers\n",
    "print('Comparisons for Third Case ',comparisons)\n",
    "tgtList,comparisons=QuickSort(array_file.copy())"
   ]
  }
 ],
 "metadata": {
  "accelerator": "GPU",
  "celltoolbar": "Raw Cell Format",
  "colab": {
   "collapsed_sections": [],
   "include_colab_link": true,
   "name": "Quicksort.ipynb",
   "provenance": [],
   "version": "0.3.2"
  },
  "kernelspec": {
   "display_name": "Python 3",
   "language": "python",
   "name": "python3"
  },
  "language_info": {
   "codemirror_mode": {
    "name": "ipython",
    "version": 3
   },
   "file_extension": ".py",
   "mimetype": "text/x-python",
   "name": "python",
   "nbconvert_exporter": "python",
   "pygments_lexer": "ipython3",
   "version": "3.6.2"
  }
 },
 "nbformat": 4,
 "nbformat_minor": 1
}
