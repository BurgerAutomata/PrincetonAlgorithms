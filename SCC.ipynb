{
 "cells": [
  {
   "cell_type": "markdown",
   "metadata": {},
   "source": [
    "# Programming Assignment 1 Graph Algorithms\n",
    "<br>\n",
    "Your task is to code up the algorithm from the video lectures for computing strongly connected components (SCCs), and to run this algorithm on the given graph.\n",
    "<br>\n",
    "Output Format: You should output the sizes of the 5 largest SCCs in the given graph, in decreasing order of sizes, separated by commas (avoid any spaces). So if your algorithm computes the sizes of the five largest SCCs to be 500, 400, 300, 200 and 100, then your answer should be \"500,400,300,200,100\" (without the quotes). If your algorithm finds less than 5 SCCs, then write 0 for the remaining terms. Thus, if your algorithm computes only 3 SCCs whose sizes are 400, 300, and 100, then your answer should be \"400,300,100,0,0\" (without the quotes). (Note also that your answer should not have any spaces in it.)"
   ]
  },
  {
   "cell_type": "markdown",
   "metadata": {},
   "source": [
    "## Preparation"
   ]
  },
  {
   "cell_type": "code",
   "execution_count": 1,
   "metadata": {
    "collapsed": true
   },
   "outputs": [],
   "source": [
    "#various common imports\n",
    "import numpy as np\n",
    "import sys\n",
    "import pandas as pd\n",
    "import random as rnd\n",
    "import copy\n",
    "#interesting to create more easily dictionaries, from https://stackoverflow.com/questions/26367812/appending-to-list-in-python-dictionary\n",
    "from collections import defaultdict\n",
    "from collections import Counter\n",
    "#import resource\n",
    "import threading\n",
    "#import resources"
   ]
  },
  {
   "cell_type": "code",
   "execution_count": 2,
   "metadata": {
    "collapsed": true
   },
   "outputs": [],
   "source": [
    "#Careful recursion and stack preparation. Apparently absolutely necessary\n",
    "sys.setrecursionlimit(4000)\n",
    "#hardlimit = resource.getrlimit(resource.RLIMIT_STACK)[1]"
   ]
  },
  {
   "cell_type": "markdown",
   "metadata": {},
   "source": [
    "### File import\n",
    "<br>\n",
    "The file contains the edges of a directed graph. Vertices are labeled as positive integers from 1 to 875714. Every row indicates an edge, the vertex label in first column is the tail and the vertex label in second column is the head (recall the graph is directed, and the edges are directed from the first column vertex to the second column vertex). So for example, the 11^{th}11 \n",
    "th row looks liks : \"2 47646\". This just means that the vertex with label 2 has an outgoing edge to the vertex with label 47646"
   ]
  },
  {
   "cell_type": "code",
   "execution_count": 3,
   "metadata": {
    "collapsed": true
   },
   "outputs": [],
   "source": [
    "input_file = 'SCC.txt'\n",
    "with open(input_file, 'r') as data:\n",
    "    line = data.read().strip().split(\"\\n\")\n",
    "#produces correctly elements with 2 values"
   ]
  },
  {
   "cell_type": "code",
   "execution_count": 4,
   "metadata": {},
   "outputs": [
    {
     "data": {
      "text/plain": [
       "5105043"
      ]
     },
     "execution_count": 4,
     "metadata": {},
     "output_type": "execute_result"
    }
   ],
   "source": [
    "len(line)"
   ]
  },
  {
   "cell_type": "code",
   "execution_count": 5,
   "metadata": {},
   "outputs": [
    {
     "data": {
      "text/plain": [
       "'1 2'"
      ]
     },
     "execution_count": 5,
     "metadata": {},
     "output_type": "execute_result"
    }
   ],
   "source": [
    "line[1].strip()"
   ]
  },
  {
   "cell_type": "code",
   "execution_count": 6,
   "metadata": {},
   "outputs": [
    {
     "data": {
      "text/plain": [
       "['1', '2']"
      ]
     },
     "execution_count": 6,
     "metadata": {},
     "output_type": "execute_result"
    }
   ],
   "source": [
    "line[1].split()"
   ]
  },
  {
   "cell_type": "markdown",
   "metadata": {},
   "source": [
    "Maybe turn into a **tuple** ?\n",
    "<br>\n",
    "Suggested to represent as adjacency list\n",
    "<br>"
   ]
  },
  {
   "cell_type": "code",
   "execution_count": 7,
   "metadata": {
    "collapsed": true
   },
   "outputs": [],
   "source": [
    "prbNet=[[int(s) for s in lin.split()] for lin in line]"
   ]
  },
  {
   "cell_type": "code",
   "execution_count": 8,
   "metadata": {},
   "outputs": [
    {
     "name": "stdout",
     "output_type": "stream",
     "text": [
      "[ 1  2  3  4  5  6  7  8  9 10 11 12 13 14 15 16 17 18 19 20 21 22 23 24 25\n",
      " 26 27 28 29 30]\n"
     ]
    }
   ],
   "source": [
    "#Adjacency list\n",
    "prbNet2=np.array(prbNet)\n",
    "uniqueID=np.unique(prbNet2)\n",
    "print(uniqueID[:30])"
   ]
  },
  {
   "cell_type": "code",
   "execution_count": 9,
   "metadata": {
    "collapsed": true
   },
   "outputs": [],
   "source": [
    "#All unique values in the head of vertices\n",
    "uniqueHead=np.unique(prbNet2[:,0])"
   ]
  },
  {
   "cell_type": "code",
   "execution_count": 10,
   "metadata": {},
   "outputs": [
    {
     "data": {
      "text/plain": [
       "739454"
      ]
     },
     "execution_count": 10,
     "metadata": {},
     "output_type": "execute_result"
    }
   ],
   "source": [
    "len(uniqueHead)"
   ]
  },
  {
   "cell_type": "code",
   "execution_count": 11,
   "metadata": {},
   "outputs": [
    {
     "data": {
      "text/plain": [
       "array([ 1,  2,  3,  4,  5,  6,  7,  8,  9, 10, 11, 12, 13, 14, 15, 16, 17,\n",
       "       18, 19, 20])"
      ]
     },
     "execution_count": 11,
     "metadata": {},
     "output_type": "execute_result"
    }
   ],
   "source": [
    "uniqueID[:20]"
   ]
  },
  {
   "cell_type": "code",
   "execution_count": 12,
   "metadata": {
    "collapsed": true
   },
   "outputs": [],
   "source": [
    "#All unique values in the tail of vertices\n",
    "uniqueTail=np.unique(prbNet2[:,1])"
   ]
  },
  {
   "cell_type": "code",
   "execution_count": 13,
   "metadata": {},
   "outputs": [
    {
     "data": {
      "text/plain": [
       "714547"
      ]
     },
     "execution_count": 13,
     "metadata": {},
     "output_type": "execute_result"
    }
   ],
   "source": [
    "len(uniqueTail)"
   ]
  },
  {
   "cell_type": "code",
   "execution_count": 14,
   "metadata": {},
   "outputs": [
    {
     "name": "stdout",
     "output_type": "stream",
     "text": [
      "True\n"
     ]
    }
   ],
   "source": [
    "print(uniqueID.tolist()==list(range(1,875715)))"
   ]
  },
  {
   "cell_type": "code",
   "execution_count": 15,
   "metadata": {
    "collapsed": true
   },
   "outputs": [],
   "source": [
    "#Unique values that are in Head but not Tail, meaning nodes from which vertices only depart and never arrive to\n",
    "diffinHead=np.setdiff1d(uniqueHead,uniqueTail)"
   ]
  },
  {
   "cell_type": "code",
   "execution_count": 16,
   "metadata": {},
   "outputs": [
    {
     "data": {
      "text/plain": [
       "161167"
      ]
     },
     "execution_count": 16,
     "metadata": {},
     "output_type": "execute_result"
    }
   ],
   "source": [
    "len(diffinHead)"
   ]
  },
  {
   "cell_type": "code",
   "execution_count": 17,
   "metadata": {},
   "outputs": [
    {
     "data": {
      "text/plain": [
       "array([ 253,  435,  637, 1181, 1218, 1254, 1522, 1656, 1904, 2136])"
      ]
     },
     "execution_count": 17,
     "metadata": {},
     "output_type": "execute_result"
    }
   ],
   "source": [
    "diffinHead[:10]"
   ]
  },
  {
   "cell_type": "code",
   "execution_count": 18,
   "metadata": {
    "collapsed": true
   },
   "outputs": [],
   "source": [
    "#Unique values that are in Tail but not Head, meaning nodes from which vertices only arrive to and never arrive from\n",
    "diffinTail=np.setdiff1d(uniqueTail,uniqueHead)"
   ]
  },
  {
   "cell_type": "code",
   "execution_count": 19,
   "metadata": {
    "scrolled": true
   },
   "outputs": [
    {
     "data": {
      "text/plain": [
       "136260"
      ]
     },
     "execution_count": 19,
     "metadata": {},
     "output_type": "execute_result"
    }
   ],
   "source": [
    "len(diffinTail)"
   ]
  },
  {
   "cell_type": "code",
   "execution_count": 20,
   "metadata": {},
   "outputs": [
    {
     "data": {
      "text/plain": [
       "array([  4,  21,  37,  39, 108, 150, 174, 223, 230, 232])"
      ]
     },
     "execution_count": 20,
     "metadata": {},
     "output_type": "execute_result"
    }
   ],
   "source": [
    "diffinTail[:10]"
   ]
  },
  {
   "cell_type": "markdown",
   "metadata": {},
   "source": [
    "There is a clear difference in the size of the two, so <br>\n",
    "- Value that are unique in the heads,but are not in tails are nodes from which the graph is only outgoing\n",
    "- On the reverse, values that are unique in tails and that are not in heads are nodes from which the graph is only ingoing\n",
    "<br>\n",
    "The dictionary generating routine will need to add for the normal graph those that are unique in the tails because they don't ever have their value on the first position of the vertices, and to the reverse graphs those that are unique in the heads,because they don't ever have their value on the second position.\n",
    "<br>\n",
    "These should be added or not? Hard to say, as we can still keep the list of uniqueIDs as a list of nodes."
   ]
  },
  {
   "cell_type": "code",
   "execution_count": 21,
   "metadata": {},
   "outputs": [
    {
     "data": {
      "text/plain": [
       "[[1, 1],\n",
       " [1, 2],\n",
       " [1, 5],\n",
       " [1, 6],\n",
       " [1, 7],\n",
       " [1, 3],\n",
       " [1, 8],\n",
       " [1, 4],\n",
       " [2, 47646],\n",
       " [2, 47647]]"
      ]
     },
     "execution_count": 21,
     "metadata": {},
     "output_type": "execute_result"
    }
   ],
   "source": [
    "#Remember how the problem is structured\n",
    "prbNet[:10]"
   ]
  },
  {
   "cell_type": "code",
   "execution_count": 22,
   "metadata": {
    "scrolled": true
   },
   "outputs": [
    {
     "data": {
      "text/plain": [
       "[47646, 47647, 13019, 47648, 47649, 47650, 7700, 47651, 47652]"
      ]
     },
     "execution_count": 22,
     "metadata": {},
     "output_type": "execute_result"
    }
   ],
   "source": [
    "prbNet2[prbNet2[:,0] == 2,1].tolist()"
   ]
  },
  {
   "cell_type": "code",
   "execution_count": 23,
   "metadata": {},
   "outputs": [
    {
     "data": {
      "text/plain": [
       "[[2, 47646],\n",
       " [2, 47647],\n",
       " [2, 13019],\n",
       " [2, 47648],\n",
       " [2, 47649],\n",
       " [2, 47650],\n",
       " [2, 7700],\n",
       " [2, 47651],\n",
       " [2, 47652]]"
      ]
     },
     "execution_count": 23,
     "metadata": {},
     "output_type": "execute_result"
    }
   ],
   "source": [
    "list(filter(lambda x : x[0]==2,prbNet))"
   ]
  },
  {
   "cell_type": "code",
   "execution_count": 24,
   "metadata": {
    "collapsed": true
   },
   "outputs": [],
   "source": [
    "#Quite an interesting form of high performance container https://docs.python.org/2/library/collections.html#collections.defaultdict"
   ]
  },
  {
   "cell_type": "code",
   "execution_count": 25,
   "metadata": {},
   "outputs": [
    {
     "name": "stdout",
     "output_type": "stream",
     "text": [
      "defaultdict(<class 'list'>, {})\n",
      "defaultdict(<class 'list'>, {'D': [5]})\n",
      "defaultdict(<class 'list'>, {'D': [5, 6]})\n",
      "defaultdict(<class 'list'>, {'D': [5, 6], 'C': [8]})\n",
      "[5, 6]\n",
      "<class 'list'>\n"
     ]
    }
   ],
   "source": [
    "test=defaultdict(list)\n",
    "print(test)\n",
    "test['D'].append(5)\n",
    "print(test)\n",
    "test['D'].append(6)\n",
    "print(test)\n",
    "test['C'].append(8)\n",
    "print(test)\n",
    "print(test['D'])\n",
    "print(type(test['D']))"
   ]
  },
  {
   "cell_type": "code",
   "execution_count": 26,
   "metadata": {
    "collapsed": true
   },
   "outputs": [],
   "source": [
    "#What are we producing here? A dictionary that has structure\n",
    "# node ID: [list of outgoing vertices]\n",
    "#However, constructed like this, it includes no nodes that have no outgoing vertex\n",
    "prbDict=defaultdict(list)\n",
    "for i in prbNet:\n",
    "    prbDict[str(i[0])].append(i[1])"
   ]
  },
  {
   "cell_type": "code",
   "execution_count": 27,
   "metadata": {
    "collapsed": true
   },
   "outputs": [],
   "source": [
    "#Solution.  Add those that only receive, so tail\n",
    "for i in diffinTail.tolist():\n",
    "    prbDict[str(i)].append(None)"
   ]
  },
  {
   "cell_type": "code",
   "execution_count": 28,
   "metadata": {},
   "outputs": [
    {
     "data": {
      "text/plain": [
       "[47646, 47647, 13019, 47648, 47649, 47650, 7700, 47651, 47652]"
      ]
     },
     "execution_count": 28,
     "metadata": {},
     "output_type": "execute_result"
    }
   ],
   "source": [
    "#This one is present\n",
    "prbDict['2']"
   ]
  },
  {
   "cell_type": "code",
   "execution_count": 29,
   "metadata": {},
   "outputs": [
    {
     "data": {
      "text/plain": [
       "[254, 255, 256]"
      ]
     },
     "execution_count": 29,
     "metadata": {},
     "output_type": "execute_result"
    }
   ],
   "source": [
    "#Test with one that should have no ingoing\n",
    "prbDict[str(diffinHead[0])]"
   ]
  },
  {
   "cell_type": "code",
   "execution_count": 30,
   "metadata": {},
   "outputs": [
    {
     "data": {
      "text/plain": [
       "[[253, 254], [253, 255], [253, 256]]"
      ]
     },
     "execution_count": 30,
     "metadata": {},
     "output_type": "execute_result"
    }
   ],
   "source": [
    "#Show that it is the same as selecting for the same head\n",
    "list(filter(lambda x : x[0]==diffinHead[0],prbNet))"
   ]
  },
  {
   "cell_type": "code",
   "execution_count": 75,
   "metadata": {},
   "outputs": [
    {
     "data": {
      "text/plain": [
       "[]"
      ]
     },
     "execution_count": 75,
     "metadata": {},
     "output_type": "execute_result"
    }
   ],
   "source": [
    "#Show that it is the same as selecting for the same tail\n",
    "list(filter(lambda x : x[0]==diffinTail[0],prbNet))"
   ]
  },
  {
   "cell_type": "code",
   "execution_count": 31,
   "metadata": {},
   "outputs": [
    {
     "data": {
      "text/plain": [
       "4"
      ]
     },
     "execution_count": 31,
     "metadata": {},
     "output_type": "execute_result"
    }
   ],
   "source": [
    "#One vertex that has no outgoing\n",
    "diffinTail[0]"
   ]
  },
  {
   "cell_type": "code",
   "execution_count": 32,
   "metadata": {},
   "outputs": [
    {
     "data": {
      "text/plain": [
       "[None]"
      ]
     },
     "execution_count": 32,
     "metadata": {},
     "output_type": "execute_result"
    }
   ],
   "source": [
    "#missing initially, but now none should be present\n",
    "prbDict['4']"
   ]
  },
  {
   "cell_type": "code",
   "execution_count": 33,
   "metadata": {},
   "outputs": [
    {
     "data": {
      "text/plain": [
       "[]"
      ]
     },
     "execution_count": 33,
     "metadata": {},
     "output_type": "execute_result"
    }
   ],
   "source": [
    "#see if those other are present\n",
    "list(filter(lambda x : x[0]==diffinTail[0],prbNet))"
   ]
  },
  {
   "cell_type": "code",
   "execution_count": 34,
   "metadata": {},
   "outputs": [
    {
     "data": {
      "text/plain": [
       "[[5, 9],\n",
       " [11, 9],\n",
       " [26, 9],\n",
       " [32, 9],\n",
       " [71106, 9],\n",
       " [71107, 9],\n",
       " [71110, 9],\n",
       " [71112, 9],\n",
       " [104769, 9],\n",
       " [104773, 9],\n",
       " [104807, 9],\n",
       " [115331, 9],\n",
       " [280789, 9],\n",
       " [292544, 9],\n",
       " [297779, 9],\n",
       " [467260, 9],\n",
       " [547599, 9],\n",
       " [675019, 9],\n",
       " [732157, 9],\n",
       " [832536, 9],\n",
       " [851820, 9],\n",
       " [874197, 9]]"
      ]
     },
     "execution_count": 34,
     "metadata": {},
     "output_type": "execute_result"
    }
   ],
   "source": [
    "#Let's check out if it also works for reversal\n",
    "#Want to see ALL nodes that go to 9, instead of where 9 goes to\n",
    "list(filter(lambda x : x[1]==9,prbNet))"
   ]
  },
  {
   "cell_type": "code",
   "execution_count": 35,
   "metadata": {
    "scrolled": true
   },
   "outputs": [
    {
     "data": {
      "text/plain": [
       "[[9, 71107],\n",
       " [9, 71108],\n",
       " [9, 71109],\n",
       " [9, 21],\n",
       " [9, 71110],\n",
       " [9, 71111],\n",
       " [9, 39350],\n",
       " [9, 71112],\n",
       " [9, 71113]]"
      ]
     },
     "execution_count": 35,
     "metadata": {},
     "output_type": "execute_result"
    }
   ],
   "source": [
    "#where 9 goes to\n",
    "list(filter(lambda x : x[0]==9,prbNet))"
   ]
  },
  {
   "cell_type": "code",
   "execution_count": 36,
   "metadata": {
    "collapsed": true
   },
   "outputs": [],
   "source": [
    "#Same problem as above. Solve with head\n",
    "graphRev=defaultdict(list)\n",
    "for i in prbNet:\n",
    "    graphRev[str(i[1])].append(i[0])\n",
    "    #Solution.  Add those that only receive, so head\n",
    "for i in diffinHead.tolist():\n",
    "    graphRev[str(i)].append(None)"
   ]
  },
  {
   "cell_type": "code",
   "execution_count": 37,
   "metadata": {},
   "outputs": [
    {
     "data": {
      "text/plain": [
       "[5,\n",
       " 11,\n",
       " 26,\n",
       " 32,\n",
       " 71106,\n",
       " 71107,\n",
       " 71110,\n",
       " 71112,\n",
       " 104769,\n",
       " 104773,\n",
       " 104807,\n",
       " 115331,\n",
       " 280789,\n",
       " 292544,\n",
       " 297779,\n",
       " 467260,\n",
       " 547599,\n",
       " 675019,\n",
       " 732157,\n",
       " 832536,\n",
       " 851820,\n",
       " 874197]"
      ]
     },
     "execution_count": 37,
     "metadata": {},
     "output_type": "execute_result"
    }
   ],
   "source": [
    "graphRev['9']"
   ]
  },
  {
   "cell_type": "code",
   "execution_count": 38,
   "metadata": {},
   "outputs": [
    {
     "data": {
      "text/plain": [
       "875714"
      ]
     },
     "execution_count": 38,
     "metadata": {},
     "output_type": "execute_result"
    }
   ],
   "source": [
    "len(graphRev)"
   ]
  },
  {
   "cell_type": "code",
   "execution_count": 39,
   "metadata": {},
   "outputs": [
    {
     "name": "stdout",
     "output_type": "stream",
     "text": [
      "True\n"
     ]
    }
   ],
   "source": [
    "#Let's check for sanity\n",
    "print(prbDict.keys()==graphRev.keys())"
   ]
  },
  {
   "cell_type": "code",
   "execution_count": 40,
   "metadata": {},
   "outputs": [
    {
     "data": {
      "text/plain": [
       "875714"
      ]
     },
     "execution_count": 40,
     "metadata": {},
     "output_type": "execute_result"
    }
   ],
   "source": [
    "len(uniqueID)"
   ]
  },
  {
   "cell_type": "code",
   "execution_count": 41,
   "metadata": {},
   "outputs": [
    {
     "data": {
      "text/plain": [
       "numpy.ndarray"
      ]
     },
     "execution_count": 41,
     "metadata": {},
     "output_type": "execute_result"
    }
   ],
   "source": [
    "type(uniqueID)"
   ]
  },
  {
   "cell_type": "code",
   "execution_count": 42,
   "metadata": {},
   "outputs": [
    {
     "data": {
      "text/plain": [
       "array([ 1,  2,  3,  4,  5,  6,  7,  8,  9, 10])"
      ]
     },
     "execution_count": 42,
     "metadata": {},
     "output_type": "execute_result"
    }
   ],
   "source": [
    "uniqueID[:10]"
   ]
  },
  {
   "cell_type": "code",
   "execution_count": 43,
   "metadata": {},
   "outputs": [
    {
     "data": {
      "text/plain": [
       "875714"
      ]
     },
     "execution_count": 43,
     "metadata": {},
     "output_type": "execute_result"
    }
   ],
   "source": [
    "len(prbDict.keys())"
   ]
  },
  {
   "cell_type": "code",
   "execution_count": 44,
   "metadata": {},
   "outputs": [
    {
     "data": {
      "text/plain": [
       "[1, 2, 3, 4, 5, 6, 7, 8, 9, 10]"
      ]
     },
     "execution_count": 44,
     "metadata": {},
     "output_type": "execute_result"
    }
   ],
   "source": [
    "sorted(map(int,list(prbDict.keys())))[:10]"
   ]
  },
  {
   "cell_type": "markdown",
   "metadata": {},
   "source": [
    "The following check that **all** nodes are present in the graph"
   ]
  },
  {
   "cell_type": "code",
   "execution_count": 45,
   "metadata": {},
   "outputs": [
    {
     "name": "stdout",
     "output_type": "stream",
     "text": [
      "True\n"
     ]
    }
   ],
   "source": [
    "print(uniqueID.tolist()==sorted(map(int,list(prbDict.keys()))))"
   ]
  },
  {
   "cell_type": "code",
   "execution_count": 46,
   "metadata": {},
   "outputs": [
    {
     "name": "stdout",
     "output_type": "stream",
     "text": [
      "True\n"
     ]
    }
   ],
   "source": [
    "print(uniqueID.tolist()==sorted(map(int,list(graphRev.keys()))))"
   ]
  },
  {
   "cell_type": "code",
   "execution_count": 153,
   "metadata": {},
   "outputs": [
    {
     "data": {
      "text/plain": [
       "[1, 511593, 840125]"
      ]
     },
     "execution_count": 153,
     "metadata": {},
     "output_type": "execute_result"
    }
   ],
   "source": [
    "list(graphRev.values())[5]"
   ]
  },
  {
   "cell_type": "code",
   "execution_count": 147,
   "metadata": {},
   "outputs": [
    {
     "data": {
      "text/plain": [
       "[1, 511593, 840125]"
      ]
     },
     "execution_count": 147,
     "metadata": {},
     "output_type": "execute_result"
    }
   ],
   "source": [
    "graphRev['3']"
   ]
  },
  {
   "cell_type": "code",
   "execution_count": 152,
   "metadata": {},
   "outputs": [
    {
     "data": {
      "text/plain": [
       "[1,\n",
       " 5,\n",
       " 6,\n",
       " 7,\n",
       " 8,\n",
       " 10,\n",
       " 12,\n",
       " 13,\n",
       " 16,\n",
       " 17,\n",
       " 18,\n",
       " 19,\n",
       " 20,\n",
       " 23,\n",
       " 24,\n",
       " 25,\n",
       " 26,\n",
       " 27,\n",
       " 28,\n",
       " 29,\n",
       " 30,\n",
       " 31,\n",
       " 32,\n",
       " 34,\n",
       " 35,\n",
       " 36,\n",
       " 3121,\n",
       " 53206,\n",
       " 53211,\n",
       " 71113,\n",
       " 88664,\n",
       " 88665,\n",
       " 104772,\n",
       " 104782,\n",
       " 104783,\n",
       " 104784,\n",
       " 104786,\n",
       " 104787,\n",
       " 104788,\n",
       " 104789,\n",
       " 104790,\n",
       " 104791,\n",
       " 104809,\n",
       " 104812,\n",
       " 104813,\n",
       " 104814,\n",
       " 104815,\n",
       " 104817,\n",
       " 104818,\n",
       " 104819,\n",
       " 104820,\n",
       " 104821,\n",
       " 104822,\n",
       " 110437,\n",
       " 110438,\n",
       " 110439,\n",
       " 110440,\n",
       " 110441,\n",
       " 110442,\n",
       " 115314,\n",
       " 115336,\n",
       " 115342,\n",
       " 115355,\n",
       " 115399,\n",
       " 115401,\n",
       " 124672,\n",
       " 124673,\n",
       " 133568,\n",
       " 171168,\n",
       " 171169,\n",
       " 171170,\n",
       " 171172,\n",
       " 171175,\n",
       " 171176,\n",
       " 171177,\n",
       " 171178,\n",
       " 171179,\n",
       " 171182,\n",
       " 171188,\n",
       " 176657,\n",
       " 176658,\n",
       " 176659,\n",
       " 176660,\n",
       " 176661,\n",
       " 176662,\n",
       " 176663,\n",
       " 176664,\n",
       " 176667,\n",
       " 212282,\n",
       " 212283,\n",
       " 212284,\n",
       " 212285,\n",
       " 212286,\n",
       " 212287,\n",
       " 212288,\n",
       " 212290,\n",
       " 212291,\n",
       " 212292,\n",
       " 212293,\n",
       " 212294,\n",
       " 212295,\n",
       " 224091,\n",
       " 240432,\n",
       " 280787,\n",
       " 280871,\n",
       " 297779,\n",
       " 303368,\n",
       " 303369,\n",
       " 303370,\n",
       " 303371,\n",
       " 303372,\n",
       " 307622,\n",
       " 307624,\n",
       " 307625,\n",
       " 307627,\n",
       " 307628,\n",
       " 307629,\n",
       " 307630,\n",
       " 313160,\n",
       " 313976,\n",
       " 318620,\n",
       " 320269,\n",
       " 320270,\n",
       " 347557,\n",
       " 347559,\n",
       " 347561,\n",
       " 347562,\n",
       " 347563,\n",
       " 348031,\n",
       " 348032,\n",
       " 348033,\n",
       " 348034,\n",
       " 348037,\n",
       " 348039,\n",
       " 348040,\n",
       " 348041,\n",
       " 348042,\n",
       " 348044,\n",
       " 348045,\n",
       " 348046,\n",
       " 348047,\n",
       " 348048,\n",
       " 348050,\n",
       " 348051,\n",
       " 348052,\n",
       " 348053,\n",
       " 348054,\n",
       " 348055,\n",
       " 348056,\n",
       " 348057,\n",
       " 348058,\n",
       " 348059,\n",
       " 348060,\n",
       " 348061,\n",
       " 361742,\n",
       " 361743,\n",
       " 361744,\n",
       " 361745,\n",
       " 361746,\n",
       " 361747,\n",
       " 361748,\n",
       " 361749,\n",
       " 361750,\n",
       " 361751,\n",
       " 361752,\n",
       " 361753,\n",
       " 361754,\n",
       " 361755,\n",
       " 361757,\n",
       " 386605,\n",
       " 395677,\n",
       " 395678,\n",
       " 395679,\n",
       " 395680,\n",
       " 395681,\n",
       " 395682,\n",
       " 395683,\n",
       " 395684,\n",
       " 395685,\n",
       " 395686,\n",
       " 415833,\n",
       " 429291,\n",
       " 448071,\n",
       " 461693,\n",
       " 495884,\n",
       " 535062,\n",
       " 535063,\n",
       " 540151,\n",
       " 541482,\n",
       " 572219,\n",
       " 572229,\n",
       " 601113,\n",
       " 637920,\n",
       " 637921,\n",
       " 664635,\n",
       " 675019,\n",
       " 692316,\n",
       " 693575,\n",
       " 699074,\n",
       " 707709,\n",
       " 707710,\n",
       " 732157,\n",
       " 734061,\n",
       " 734309,\n",
       " 758952,\n",
       " 758955,\n",
       " 776406,\n",
       " 801801,\n",
       " 827774,\n",
       " 832536,\n",
       " 846832,\n",
       " 851820,\n",
       " 860482]"
      ]
     },
     "execution_count": 152,
     "metadata": {},
     "output_type": "execute_result"
    }
   ],
   "source": [
    "graphRev['1']"
   ]
  },
  {
   "cell_type": "code",
   "execution_count": 151,
   "metadata": {},
   "outputs": [
    {
     "data": {
      "text/plain": [
       "[[1,\n",
       "  5,\n",
       "  6,\n",
       "  7,\n",
       "  8,\n",
       "  10,\n",
       "  12,\n",
       "  13,\n",
       "  16,\n",
       "  17,\n",
       "  18,\n",
       "  19,\n",
       "  20,\n",
       "  23,\n",
       "  24,\n",
       "  25,\n",
       "  26,\n",
       "  27,\n",
       "  28,\n",
       "  29,\n",
       "  30,\n",
       "  31,\n",
       "  32,\n",
       "  34,\n",
       "  35,\n",
       "  36,\n",
       "  3121,\n",
       "  53206,\n",
       "  53211,\n",
       "  71113,\n",
       "  88664,\n",
       "  88665,\n",
       "  104772,\n",
       "  104782,\n",
       "  104783,\n",
       "  104784,\n",
       "  104786,\n",
       "  104787,\n",
       "  104788,\n",
       "  104789,\n",
       "  104790,\n",
       "  104791,\n",
       "  104809,\n",
       "  104812,\n",
       "  104813,\n",
       "  104814,\n",
       "  104815,\n",
       "  104817,\n",
       "  104818,\n",
       "  104819,\n",
       "  104820,\n",
       "  104821,\n",
       "  104822,\n",
       "  110437,\n",
       "  110438,\n",
       "  110439,\n",
       "  110440,\n",
       "  110441,\n",
       "  110442,\n",
       "  115314,\n",
       "  115336,\n",
       "  115342,\n",
       "  115355,\n",
       "  115399,\n",
       "  115401,\n",
       "  124672,\n",
       "  124673,\n",
       "  133568,\n",
       "  171168,\n",
       "  171169,\n",
       "  171170,\n",
       "  171172,\n",
       "  171175,\n",
       "  171176,\n",
       "  171177,\n",
       "  171178,\n",
       "  171179,\n",
       "  171182,\n",
       "  171188,\n",
       "  176657,\n",
       "  176658,\n",
       "  176659,\n",
       "  176660,\n",
       "  176661,\n",
       "  176662,\n",
       "  176663,\n",
       "  176664,\n",
       "  176667,\n",
       "  212282,\n",
       "  212283,\n",
       "  212284,\n",
       "  212285,\n",
       "  212286,\n",
       "  212287,\n",
       "  212288,\n",
       "  212290,\n",
       "  212291,\n",
       "  212292,\n",
       "  212293,\n",
       "  212294,\n",
       "  212295,\n",
       "  224091,\n",
       "  240432,\n",
       "  280787,\n",
       "  280871,\n",
       "  297779,\n",
       "  303368,\n",
       "  303369,\n",
       "  303370,\n",
       "  303371,\n",
       "  303372,\n",
       "  307622,\n",
       "  307624,\n",
       "  307625,\n",
       "  307627,\n",
       "  307628,\n",
       "  307629,\n",
       "  307630,\n",
       "  313160,\n",
       "  313976,\n",
       "  318620,\n",
       "  320269,\n",
       "  320270,\n",
       "  347557,\n",
       "  347559,\n",
       "  347561,\n",
       "  347562,\n",
       "  347563,\n",
       "  348031,\n",
       "  348032,\n",
       "  348033,\n",
       "  348034,\n",
       "  348037,\n",
       "  348039,\n",
       "  348040,\n",
       "  348041,\n",
       "  348042,\n",
       "  348044,\n",
       "  348045,\n",
       "  348046,\n",
       "  348047,\n",
       "  348048,\n",
       "  348050,\n",
       "  348051,\n",
       "  348052,\n",
       "  348053,\n",
       "  348054,\n",
       "  348055,\n",
       "  348056,\n",
       "  348057,\n",
       "  348058,\n",
       "  348059,\n",
       "  348060,\n",
       "  348061,\n",
       "  361742,\n",
       "  361743,\n",
       "  361744,\n",
       "  361745,\n",
       "  361746,\n",
       "  361747,\n",
       "  361748,\n",
       "  361749,\n",
       "  361750,\n",
       "  361751,\n",
       "  361752,\n",
       "  361753,\n",
       "  361754,\n",
       "  361755,\n",
       "  361757,\n",
       "  386605,\n",
       "  395677,\n",
       "  395678,\n",
       "  395679,\n",
       "  395680,\n",
       "  395681,\n",
       "  395682,\n",
       "  395683,\n",
       "  395684,\n",
       "  395685,\n",
       "  395686,\n",
       "  415833,\n",
       "  429291,\n",
       "  448071,\n",
       "  461693,\n",
       "  495884,\n",
       "  535062,\n",
       "  535063,\n",
       "  540151,\n",
       "  541482,\n",
       "  572219,\n",
       "  572229,\n",
       "  601113,\n",
       "  637920,\n",
       "  637921,\n",
       "  664635,\n",
       "  675019,\n",
       "  692316,\n",
       "  693575,\n",
       "  699074,\n",
       "  707709,\n",
       "  707710,\n",
       "  732157,\n",
       "  734061,\n",
       "  734309,\n",
       "  758952,\n",
       "  758955,\n",
       "  776406,\n",
       "  801801,\n",
       "  827774,\n",
       "  832536,\n",
       "  846832,\n",
       "  851820,\n",
       "  860482],\n",
       " [1]]"
      ]
     },
     "execution_count": 151,
     "metadata": {},
     "output_type": "execute_result"
    }
   ],
   "source": [
    "list(graphRev.values())[:2]"
   ]
  },
  {
   "cell_type": "code",
   "execution_count": 158,
   "metadata": {},
   "outputs": [
    {
     "name": "stdout",
     "output_type": "stream",
     "text": [
      "dict_values([[3, 6, 7], [10, 5, 30], [100, 200]])\n"
     ]
    }
   ],
   "source": [
    "dictM={'1':[3,6,7],'2':[10,5,30],'4':[100,200]}\n",
    "print(dictM.values())"
   ]
  },
  {
   "cell_type": "code",
   "execution_count": 112,
   "metadata": {
    "collapsed": true
   },
   "outputs": [],
   "source": [
    "def loaddata(filename):\n",
    "\n",
    "    with open(filename,\"r\") as f:\n",
    "        edges = [list(map(int,line.split())) for line in f]\n",
    "    \n",
    "    nodes = list(set([v for edge in edges for v in edge]))\n",
    "    G = {i: [] for i in range(1,len(nodes)+1)}\n",
    "    Grev = {i: [] for i in range(1,len(nodes)+1)}\n",
    "    for edge in edges:\n",
    "        G[edge[0]] += [edge[1]]\n",
    "        Grev[edge[1]] += [edge[0]]\n",
    "\n",
    "    return G,Grev,nodes\n",
    "\n",
    "#let's see what it can do"
   ]
  },
  {
   "cell_type": "code",
   "execution_count": 95,
   "metadata": {},
   "outputs": [
    {
     "name": "stdout",
     "output_type": "stream",
     "text": [
      "[[1, 1], [1, 2], [1, 5], [1, 6], [1, 7], [1, 3], [1, 8], [1, 4], [2, 47646], [2, 47647], [2, 13019], [2, 47648], [2, 47649], [2, 47650], [2, 7700], [2, 47651], [2, 47652], [3, 511596], [5, 1], [5, 9]]\n"
     ]
    }
   ],
   "source": [
    "with open('SCC.txt',\"r\") as f:\n",
    "    edges = [list(map(int,line.split())) for line in f]\n",
    "print(edges[:20])    "
   ]
  },
  {
   "cell_type": "code",
   "execution_count": 96,
   "metadata": {},
   "outputs": [
    {
     "data": {
      "text/plain": [
       "[0,\n",
       " 0,\n",
       " 0,\n",
       " 1,\n",
       " 0,\n",
       " 4,\n",
       " 0,\n",
       " 5,\n",
       " 0,\n",
       " 6,\n",
       " 0,\n",
       " 2,\n",
       " 0,\n",
       " 7,\n",
       " 0,\n",
       " 3,\n",
       " 1,\n",
       " 47645,\n",
       " 1,\n",
       " 47646,\n",
       " 1,\n",
       " 13018,\n",
       " 1,\n",
       " 47647,\n",
       " 1,\n",
       " 47648,\n",
       " 1,\n",
       " 47649,\n",
       " 1,\n",
       " 7699]"
      ]
     },
     "execution_count": 96,
     "metadata": {},
     "output_type": "execute_result"
    }
   ],
   "source": [
    "[v-1 for edge in edges for v in edge][:30]"
   ]
  },
  {
   "cell_type": "code",
   "execution_count": 97,
   "metadata": {
    "collapsed": true
   },
   "outputs": [],
   "source": [
    "nodes = list(set([v-1 for edge in edges for v in edge]))"
   ]
  },
  {
   "cell_type": "code",
   "execution_count": 98,
   "metadata": {},
   "outputs": [
    {
     "data": {
      "text/plain": [
       "[875684,\n",
       " 875685,\n",
       " 875686,\n",
       " 875687,\n",
       " 875688,\n",
       " 875689,\n",
       " 875690,\n",
       " 875691,\n",
       " 875692,\n",
       " 875693,\n",
       " 875694,\n",
       " 875695,\n",
       " 875696,\n",
       " 875697,\n",
       " 875698,\n",
       " 875699,\n",
       " 875700,\n",
       " 875701,\n",
       " 875702,\n",
       " 875703,\n",
       " 875704,\n",
       " 875705,\n",
       " 875706,\n",
       " 875707,\n",
       " 875708,\n",
       " 875709,\n",
       " 875710,\n",
       " 875711,\n",
       " 875712,\n",
       " 875713]"
      ]
     },
     "execution_count": 98,
     "metadata": {},
     "output_type": "execute_result"
    }
   ],
   "source": [
    "nodes[-30:]"
   ]
  },
  {
   "cell_type": "code",
   "execution_count": 99,
   "metadata": {},
   "outputs": [
    {
     "name": "stdout",
     "output_type": "stream",
     "text": [
      "[0, 1, 2, 3, 4, 5, 6, 7, 8, 9, 10, 11, 12, 13, 14, 15, 16, 17, 18, 19]\n",
      "875714\n"
     ]
    }
   ],
   "source": [
    "print(nodes[:20])\n",
    "print(len(nodes))"
   ]
  },
  {
   "cell_type": "code",
   "execution_count": 113,
   "metadata": {
    "collapsed": true
   },
   "outputs": [],
   "source": [
    "graph1,graph2,nods=loaddata('SCC.txt')"
   ]
  },
  {
   "cell_type": "code",
   "execution_count": 114,
   "metadata": {},
   "outputs": [
    {
     "data": {
      "text/plain": [
       "[1, 2, 5, 6, 7, 3, 8, 4]"
      ]
     },
     "execution_count": 114,
     "metadata": {},
     "output_type": "execute_result"
    }
   ],
   "source": [
    "graph1[1]"
   ]
  },
  {
   "cell_type": "code",
   "execution_count": 115,
   "metadata": {},
   "outputs": [
    {
     "data": {
      "text/plain": [
       "[]"
      ]
     },
     "execution_count": 115,
     "metadata": {},
     "output_type": "execute_result"
    }
   ],
   "source": [
    "graph1[4]"
   ]
  },
  {
   "cell_type": "code",
   "execution_count": 116,
   "metadata": {},
   "outputs": [
    {
     "data": {
      "text/plain": [
       "dict"
      ]
     },
     "execution_count": 116,
     "metadata": {},
     "output_type": "execute_result"
    }
   ],
   "source": [
    "type(graph1)"
   ]
  },
  {
   "cell_type": "code",
   "execution_count": 117,
   "metadata": {},
   "outputs": [
    {
     "data": {
      "text/plain": [
       "[1]"
      ]
     },
     "execution_count": 117,
     "metadata": {},
     "output_type": "execute_result"
    }
   ],
   "source": [
    "graph2[4]"
   ]
  },
  {
   "cell_type": "code",
   "execution_count": 118,
   "metadata": {},
   "outputs": [
    {
     "data": {
      "text/plain": [
       "875714"
      ]
     },
     "execution_count": 118,
     "metadata": {},
     "output_type": "execute_result"
    }
   ],
   "source": [
    "len(list(graph1.keys()))"
   ]
  },
  {
   "cell_type": "code",
   "execution_count": 119,
   "metadata": {},
   "outputs": [
    {
     "data": {
      "text/plain": [
       "875714"
      ]
     },
     "execution_count": 119,
     "metadata": {},
     "output_type": "execute_result"
    }
   ],
   "source": [
    "len(list(graph2.keys()))"
   ]
  },
  {
   "cell_type": "code",
   "execution_count": 120,
   "metadata": {},
   "outputs": [
    {
     "name": "stdout",
     "output_type": "stream",
     "text": [
      "<class 'list'>\n"
     ]
    }
   ],
   "source": [
    "print(type(nods))"
   ]
  },
  {
   "cell_type": "code",
   "execution_count": 121,
   "metadata": {},
   "outputs": [
    {
     "data": {
      "text/plain": [
       "875714"
      ]
     },
     "execution_count": 121,
     "metadata": {},
     "output_type": "execute_result"
    }
   ],
   "source": [
    "len(nods)"
   ]
  },
  {
   "cell_type": "code",
   "execution_count": 122,
   "metadata": {},
   "outputs": [
    {
     "data": {
      "text/plain": [
       "False"
      ]
     },
     "execution_count": 122,
     "metadata": {},
     "output_type": "execute_result"
    }
   ],
   "source": [
    "nods==list(range(875714))"
   ]
  },
  {
   "cell_type": "code",
   "execution_count": 123,
   "metadata": {},
   "outputs": [
    {
     "data": {
      "text/plain": [
       "[1, 2, 3, 4, 5, 6, 7, 8, 9, 10, 11, 12, 13, 14, 15, 16, 17, 18, 19, 20]"
      ]
     },
     "execution_count": 123,
     "metadata": {},
     "output_type": "execute_result"
    }
   ],
   "source": [
    "nods[:20]"
   ]
  },
  {
   "cell_type": "code",
   "execution_count": 124,
   "metadata": {},
   "outputs": [
    {
     "data": {
      "text/plain": [
       "[875695,\n",
       " 875696,\n",
       " 875697,\n",
       " 875698,\n",
       " 875699,\n",
       " 875700,\n",
       " 875701,\n",
       " 875702,\n",
       " 875703,\n",
       " 875704,\n",
       " 875705,\n",
       " 875706,\n",
       " 875707,\n",
       " 875708,\n",
       " 875709,\n",
       " 875710,\n",
       " 875711,\n",
       " 875712,\n",
       " 875713,\n",
       " 875714]"
      ]
     },
     "execution_count": 124,
     "metadata": {},
     "output_type": "execute_result"
    }
   ],
   "source": [
    "nods[-20:]"
   ]
  },
  {
   "cell_type": "markdown",
   "metadata": {},
   "source": [
    "Note, the above type is from a working implementation and it produces a graph similar to ours, so it is not in the graph creation the problem. The problem is clearly in the sorted graph. "
   ]
  },
  {
   "cell_type": "markdown",
   "metadata": {},
   "source": [
    "### Test Cases\n",
    "<br>\n",
    "Test cases imported from the forums\n"
   ]
  },
  {
   "cell_type": "code",
   "execution_count": 125,
   "metadata": {
    "collapsed": true
   },
   "outputs": [],
   "source": [
    "ans_Dict={\n",
    "    'A':[3,3,3,0,0],\n",
    "    'B':[3,3,2,0,0],\n",
    "    'C':[3,3,1,1,0],\n",
    "    'D':[7,1,0,0,0],\n",
    "    'E':[6,3,2,1,0]\n",
    "}"
   ]
  },
  {
   "cell_type": "code",
   "execution_count": 126,
   "metadata": {
    "collapsed": true
   },
   "outputs": [],
   "source": [
    "testLists={'A' :[[1, 4],[2, 8],[3, 6],[4, 7],[5 ,2],[6, 9],[7, 1],[8, 5],[8, 6],[9, 7],[9, 3]], \n",
    "           'B':[[1, 2],[2 ,6],[2, 3],[2, 4],[3, 1],[3, 4],[4, 5],[5, 4],[6, 5],[6, 7],[7, 6],[7, 8],[8, 5],[8, 7]],\n",
    "           'C':[[1, 2],[2, 3],[3, 1],[3, 4],[5, 4],[6, 4],[8, 6],[6, 7],[7, 8]],\n",
    "           'D':[[1, 2],[2, 3],[3, 1],[3, 4],[5, 4],[6, 4],[8, 6],[6, 7],[7, 8],[4, 3],[4, 6]],\n",
    "           'E':[[1,2],[2,3],[2,4],[2,5],[3,6],[4,5],[4,7],[5,2],[5,6],[5,7],[6,3],[6,8],[7,8],[7,10],[8,7],[9,7],[10,9],\n",
    "                [10,11],[11,12],[12,10]]\n",
    "}"
   ]
  },
  {
   "cell_type": "code",
   "execution_count": 127,
   "metadata": {},
   "outputs": [
    {
     "data": {
      "text/plain": [
       "'#Turn into adjacency list\\n#First get all unique values\\ntestIDs=defaultdict(list)\\nfor i,k in test_Dict.items():\\n    testIDs.append(np.unique(np.array(k)).tolist())\\nprint(testIDs)'"
      ]
     },
     "execution_count": 127,
     "metadata": {},
     "output_type": "execute_result"
    }
   ],
   "source": [
    "#not needed\n",
    "'''#Turn into adjacency list\n",
    "#First get all unique values\n",
    "testIDs=defaultdict(list)\n",
    "for i,k in test_Dict.items():\n",
    "    testIDs.append(np.unique(np.array(k)).tolist())\n",
    "print(testIDs)'''"
   ]
  },
  {
   "cell_type": "code",
   "execution_count": 58,
   "metadata": {
    "collapsed": true
   },
   "outputs": [],
   "source": [
    "#Turn all lists into dictionaries"
   ]
  },
  {
   "cell_type": "code",
   "execution_count": 59,
   "metadata": {},
   "outputs": [
    {
     "name": "stdout",
     "output_type": "stream",
     "text": [
      "875714\n"
     ]
    }
   ],
   "source": [
    "#Useful\n",
    "nodeN=len(uniqueID)\n",
    "print(nodeN)"
   ]
  },
  {
   "cell_type": "code",
   "execution_count": 60,
   "metadata": {},
   "outputs": [
    {
     "data": {
      "text/plain": [
       "[10, 9, 8, 7, 6, 5, 4, 3, 2, 1]"
      ]
     },
     "execution_count": 60,
     "metadata": {},
     "output_type": "execute_result"
    }
   ],
   "source": [
    "list(range(10,0,-1))"
   ]
  },
  {
   "cell_type": "markdown",
   "metadata": {},
   "source": [
    "## Actual Code\n",
    "\n",
    "Look at\n",
    "https://github.com/ladamalina/coursera-algo/blob/master/PQ4.%20SCCs/kosaraju.py\n",
    "<br\n",
    "Here a coherent use is made of global variables, making it more similar to the variant written down in the course\n",
    "<br>\n",
    "The following version is also quite interesting <br>\n",
    "https://github.com/hennymac/Algorithms1/blob/master/Week4/scc.py\n",
    "<br>\n",
    "Furthermore here\n",
    "<br>\n",
    "https://teacode.wordpress.com/2013/07/27/algo-week-4-graph-search-and-kosaraju-ssc-finder/ \n",
    "<br>\n",
    "and here\n",
    "<br>\n",
    "https://codereview.stackexchange.com/questions/29404/calculating-strongly-connected-components-in-a-directed-graph-using-dfs\n",
    "Why are global variables used?\n",
    "We are trying to refer to a graph only by reference, as it is very large, with especially many vertices.\n",
    "Passing back and forth temporary variables might not be the best option."
   ]
  },
  {
   "cell_type": "code",
   "execution_count": 61,
   "metadata": {
    "collapsed": true
   },
   "outputs": [],
   "source": [
    "#Note. Could push a list of nodes in either of the two"
   ]
  },
  {
   "cell_type": "code",
   "execution_count": 159,
   "metadata": {
    "collapsed": true
   },
   "outputs": [],
   "source": [
    "#Define L\n",
    "\n",
    "def SSC(graph,graphRev,nNodes):\n",
    "    #Define these in the outer loop, indexed by STRING\n",
    "    global finishing\n",
    "    global leader\n",
    "    global totN\n",
    "    totN =nNodes\n",
    "    #print('Total nodes',totN)\n",
    "    finishing={}\n",
    "    leader={}\n",
    "    #DFS on reverse\n",
    "    DFSLoop(graphRev)\n",
    "    #DFS on normal graph, but needs to go into the right order.\n",
    "    graphSort={}\n",
    "    #indexed by int\n",
    "    #this is likely to not be adequate, as it does not preserve any information. We need to do a reverse graph\n",
    "    #the vertices might not actually correspond to the values, only if they get added at the same time!!!\n",
    "    #print(nodeN)\n",
    "    \n",
    "    \n",
    "    \n",
    "    #this range still seems ok\n",
    "    for l in range(1,totN+1):\n",
    "        ##print(graphV[int(l)-1])\n",
    "        #print(finishing[l])\n",
    "        if not graph[l]:\n",
    "            graphSort[finishing[l]]=[]\n",
    "        else:\n",
    "            graphSort[finishing[l]]=sorted([finishing[k] for k in graph[l]])\n",
    "        \n",
    "        \n",
    "        \n",
    "        \n",
    "        \n",
    "        \n",
    "        '''\n",
    "        if not graphV[l-1]:\n",
    "            #what to do if it shows empty?\n",
    "            #Means it has no assigned finishing times\n",
    "            #what to attribute?\n",
    "            #print('This is the graph transposed',graphV[l-1])\n",
    "            \n",
    "            graphSort[finishing[l]]=[]\n",
    "        else:    \n",
    "            graphSort[finishing[l]]=[finishing[k] for k in graphV[l-1]]\n",
    "         '''   \n",
    "    #print('This is graphsort',graphSort)    \n",
    "    #Based on finishing time\n",
    "    DFSLoop(graphSort)\n",
    "    return leader\n",
    "    \n",
    "#Depth First Search Loop\n",
    "def DFSLoop(graph):\n",
    "    #These must be inherited by all loops below\n",
    "    #T is a time variable, for exploration\n",
    "    global t\n",
    "    #s is the current leader node\n",
    "    global s\n",
    "    #List of explored nodes\n",
    "    global exp\n",
    "    t=0\n",
    "    s=0\n",
    "    #tried list, but dictionaries are easier retrieval and faster\n",
    "    exp={}\n",
    "    for i in range(1,totN+1):\n",
    "        exp[i]=False\n",
    "    #print(list(exp.keys()))\n",
    "    #as it appears in lectures\n",
    "    for node in range(totN,0,-1):\n",
    "        if exp[node]==False:\n",
    "            s = node\n",
    "            DFSInner(graph,node)\n",
    "            \n",
    "    #Empty return as we work with global variables\n",
    "    return\n",
    "        \n",
    "#Depth First search instance\n",
    "def DFSInner(graph,node):\n",
    "    #since it's modified, it needs to be restated\n",
    "    global t\n",
    "    #exploration\n",
    "    exp[node]=True\n",
    "    #Will determine order in Sorted graph\n",
    "    leader[node]=s\n",
    "    #Added None condition\n",
    "    for vrt in graph[node]:\n",
    "        #check if we have gone along this way\n",
    "        #print('This is vrt', vrt)\n",
    "        #print(exp[str(vrt)])\n",
    "        if exp[vrt]==False:\n",
    "        #Explore with a smaller recursive call\n",
    "            DFSInner(graph,vrt)\n",
    "\n",
    "    t+=1\n",
    "    #debug\n",
    "\n",
    "    finishing[node]=t\n",
    "    #Empty , as we work with global variables\n",
    "    return\n"
   ]
  },
  {
   "cell_type": "markdown",
   "metadata": {},
   "source": [
    "Neither case works for 4th test case. What is the difference with the other ones?"
   ]
  },
  {
   "cell_type": "code",
   "execution_count": 63,
   "metadata": {},
   "outputs": [
    {
     "data": {
      "text/plain": [
       "5"
      ]
     },
     "execution_count": 63,
     "metadata": {},
     "output_type": "execute_result"
    }
   ],
   "source": [
    "alpha=[5]\n",
    "alpha[-1]"
   ]
  },
  {
   "cell_type": "code",
   "execution_count": 64,
   "metadata": {},
   "outputs": [
    {
     "name": "stdout",
     "output_type": "stream",
     "text": [
      "Worked\n"
     ]
    }
   ],
   "source": [
    "alpha=[True, True, True]\n",
    "if all(el==True for el in alpha):\n",
    "    print('Worked')\n",
    "else:\n",
    "    print('Didnt work')"
   ]
  },
  {
   "cell_type": "markdown",
   "metadata": {},
   "source": [
    "Interesting solution from Stack exchange at <br>\n",
    "https://stackoverflow.com/questions/24051386/kosaraju-finding-finishing-time-using-iterative-dfs <br>\n",
    "Note the importance of using a stack <br>\n",
    "Let's rewrite this to use an order of visit"
   ]
  },
  {
   "cell_type": "code",
   "execution_count": 163,
   "metadata": {
    "collapsed": true
   },
   "outputs": [],
   "source": [
    "#Fully iterative\n",
    "\n",
    "def SSC(graph,graphRev,nNodes):\n",
    "    #Define these in the outer loop, indexed by STRING\n",
    "    global finishing\n",
    "    global leader\n",
    "    global totN\n",
    "    totN =nNodes\n",
    "    #print('Total nodes',totN)\n",
    "    finishing={}\n",
    "    leader={}\n",
    "    #DFS on reverse\n",
    "    DFSLoopIterative(graphRev)\n",
    "    #DFS on normal graph, but needs to go into the right order.\n",
    "    graphSort={}\n",
    "    #indexed by int\n",
    "    graphV=list(graph.values())\n",
    "    #print(nodeN)\n",
    "    #print('Finishing times',finishing)\n",
    "    \n",
    "    \n",
    "    #avoid this, just give new order\n",
    "    \n",
    "    #this range still seems ok\n",
    "    for l in range(1,totN+1):\n",
    "        ##print(graphV[int(l)-1])\n",
    "        #print(finishing[l])\n",
    "        if not graph[l]:\n",
    "            graphSort[finishing[l]]=[]\n",
    "        else:\n",
    "            graphSort[finishing[l]]=sorted([finishing[k] for k in graph[l]])\n",
    "\n",
    "    #Based on finishing time\n",
    "    DFSLoopIterative(graphSort)\n",
    "    return leader\n",
    "\n",
    "#Depth First Search Loop\n",
    "def DFSLoopIterative(graph):\n",
    "    #These must be inherited by all loops below\n",
    "    #However now it's not necessary to have them as global anymore\n",
    "    #T is a time variable, for exploration\n",
    "    #s is the current leader node\n",
    "    #List of explored nodes\n",
    "    exp={}\n",
    "\n",
    "    t=0\n",
    "    s=0\n",
    "    #tried list, but dictionaries are easier retrieval and faster\n",
    "    for i in range(1,totN+1):\n",
    "        exp[i]=False\n",
    "    #print(list(exp.keys()))\n",
    "    #this is the outer loop, rewritten iteratively\n",
    "        \n",
    "    for node in range(totN,0,-1):\n",
    "        if exp[node]==False:\n",
    "            #establish this node as current leader\n",
    "            s = node\n",
    "            #add to stack\n",
    "            stack = [node]\n",
    "            while stack:\n",
    "                #\n",
    "                node = stack[-1]\n",
    "                #This node is explored\n",
    "                exp[node] = True\n",
    "                leader[node]=s\n",
    "                # Check if everything coming out of v has been explored\n",
    "                graphexp=[True]\n",
    "                if node in graph:\n",
    "                    for vrt in graph[node]:\n",
    "                        if not exp[vrt]:\n",
    "                            graphexp.append(False)\n",
    "                        \n",
    "                #[i for i in graph[node] if exp[i]!=False]        \n",
    "                #This is the equivalent of the recursive call\n",
    "                if not all(l==True for l in graphexp):\n",
    "                    for vrt in graph[node]:\n",
    "\n",
    "                    # Explore the vertex before others attached to v if it's not explored\n",
    "                        if not exp[vrt]:\n",
    "                            stack.append(vrt)\n",
    "                            break\n",
    "\n",
    "                        # We have explored vertices findable from v\n",
    "                else:\n",
    "                    stack.pop()\n",
    "                    t += 1\n",
    "                    finishing[node]= t            \n",
    "    #Empty return as we work with global variables\n",
    "    return\n"
   ]
  },
  {
   "cell_type": "code",
   "execution_count": 164,
   "metadata": {},
   "outputs": [
    {
     "name": "stdout",
     "output_type": "stream",
     "text": [
      "True\n"
     ]
    }
   ],
   "source": [
    "alpha={'A':0,'B':2}\n",
    "print('A' in alpha)"
   ]
  },
  {
   "cell_type": "raw",
   "metadata": {},
   "source": [
    "#consider removing recursion\n",
    "def DFSIterative():\n",
    "\n",
    "    global stack  # Last In, First Out data stucture\n",
    "    stack=[]\n",
    "    global ranks  # the finishing times for each node\n",
    "\n",
    "    keys = sorted(G.keys(), reverse=True)\n",
    "    for node in keys:\n",
    "        if not G[node][0]:\n",
    "            stack.append(node)\n",
    "\n",
    "            while stack:\n",
    "                leader = stack[-1]\n",
    "                try:\n",
    "                    G[leader][0] = True\n",
    "                    outgoing = []\n",
    "                    try:\n",
    "                        outgoing = [j for j in G[leader][1:] if not G[j][0]]\n",
    "                    except IndexError:\n",
    "                        pass\n",
    "                    if outgoing:\n",
    "                        stack.extend(outgoing)\n",
    "                    else:\n",
    "                        ranks.append(leader)\n",
    "                        stack.pop()\n",
    "                except KeyError:\n",
    "                    ranks.append(leader)\n",
    "                    \n",
    "    return"
   ]
  },
  {
   "cell_type": "code",
   "execution_count": 165,
   "metadata": {
    "scrolled": true
   },
   "outputs": [
    {
     "name": "stdout",
     "output_type": "stream",
     "text": [
      "['A', 'B', 'C', 'D', 'E']\n"
     ]
    }
   ],
   "source": [
    "testKeys=list(testLists.keys())\n",
    "print(testKeys)"
   ]
  },
  {
   "cell_type": "code",
   "execution_count": 166,
   "metadata": {
    "scrolled": false
   },
   "outputs": [
    {
     "name": "stdout",
     "output_type": "stream",
     "text": [
      "graph to be tested defaultdict(<class 'list'>, {1: [4], 2: [8], 3: [6], 4: [7], 5: [2], 6: [9], 7: [1], 8: [5, 6], 9: [7, 3]})\n",
      "net solution \n",
      " [3, 3, 3]\n",
      "test solution \n",
      " [3, 3, 3, 0, 0]\n",
      "graph to be tested defaultdict(<class 'list'>, {1: [2], 2: [6, 3, 4], 3: [1, 4], 4: [5], 5: [4], 6: [5, 7], 7: [6, 8], 8: [5, 7]})\n",
      "net solution \n",
      " [3, 3, 2]\n",
      "test solution \n",
      " [3, 3, 2, 0, 0]\n",
      "graph to be tested defaultdict(<class 'list'>, {1: [2], 2: [3], 3: [1, 4], 5: [4], 6: [4, 7], 8: [6], 7: [8], '4': []})\n",
      "net solution \n",
      " [3, 3, 1, 1]\n",
      "test solution \n",
      " [3, 3, 1, 1, 0]\n",
      "graph to be tested defaultdict(<class 'list'>, {1: [2], 2: [3], 3: [1, 4], 5: [4], 6: [4, 7], 8: [6], 7: [8], 4: [3, 6]})\n",
      "net solution \n",
      " [7, 1]\n",
      "test solution \n",
      " [7, 1, 0, 0, 0]\n",
      "graph to be tested defaultdict(<class 'list'>, {1: [2], 2: [3, 4, 5], 3: [6], 4: [5, 7], 5: [2, 6, 7], 6: [3, 8], 7: [8, 10], 8: [7], 9: [7], 10: [9, 11], 11: [12], 12: [10]})\n",
      "net solution \n",
      " [6, 3, 2, 1]\n",
      "test solution \n",
      " [6, 3, 2, 1, 0]\n"
     ]
    }
   ],
   "source": [
    "#Test cases\n",
    "sys.setrecursionlimit(800000)\n",
    "threading.stack_size(67108864)\n",
    "\n",
    "\n",
    "def main():\n",
    "    for k in testKeys:\n",
    "        testNet=testLists[k]\n",
    "        #print('network being tested \\n',testNet)\n",
    "        #Adjacency list\n",
    "        testNet2=np.array(testNet)\n",
    "        uniqueIDTest=np.unique(testNet2)\n",
    "        netNodes=len(uniqueIDTest)\n",
    "        uniqueHeadTest=np.unique(testNet2[:,0])\n",
    "        uniqueTailTest=np.unique(testNet2[:,1])\n",
    "        diffinHeadTest=np.setdiff1d(uniqueHeadTest,uniqueTailTest)\n",
    "        diffinTailTest=np.setdiff1d(uniqueTailTest,uniqueHeadTest)\n",
    "        #Make normal graph and reverse graph\n",
    "        graphT=defaultdict(list)\n",
    "        graphRevT=defaultdict(list)\n",
    "        for i in testNet:\n",
    "            graphT[i[0]].append(i[1])\n",
    "            graphRevT[i[1]].append(i[0])\n",
    "        \n",
    "        #Add those without nodes? Make work with empty list\n",
    "        \n",
    "        for i in diffinTailTest.tolist():\n",
    "            graphT[str(i)]=[]   \n",
    "        #make Reverse graph\n",
    "            \n",
    "        for i in diffinHeadTest.tolist():\n",
    "            graphRevT[str(i)]=[]  \n",
    "        print('graph to be tested',graphT)\n",
    "        #Run the actual algorithm\n",
    "        ldTest=SSC(graphT,graphRevT,netNodes)\n",
    "        #This has given us a graph, reordered.\n",
    "        ldCount=Counter(list(ldTest.values())).most_common(5)\n",
    "        solution=[]\n",
    "        for i in ldCount:\n",
    "            solution.append(i[1])\n",
    "            \n",
    "        print('net solution \\n',solution)\n",
    "        print('test solution \\n',ans_Dict[k])\n",
    "thread = threading.Thread(target=main)\n",
    "thread.start()"
   ]
  },
  {
   "cell_type": "markdown",
   "metadata": {},
   "source": [
    "### Problem Case\n",
    "<br>\n",
    "Some suggestions from the forum, using threading and improved recursion limits<br>\n",
    "Huge thing on threading<br>\n",
    "http://chriskiehl.com/article/parallelism-in-one-line/"
   ]
  },
  {
   "cell_type": "code",
   "execution_count": 167,
   "metadata": {},
   "outputs": [
    {
     "name": "stdout",
     "output_type": "stream",
     "text": [
      "net solution \n",
      " [(615986, 434821), (617403, 968), (798411, 459), (43840, 313), (709991, 211)]\n"
     ]
    }
   ],
   "source": [
    "sys.setrecursionlimit(800000)\n",
    "threading.stack_size(67108864)\n",
    "\n",
    "def main():\n",
    "    \n",
    "\n",
    "    prbNet2=np.array(prbNet)\n",
    "    uniqueID=np.unique(prbNet2)\n",
    "    netNodes=len(uniqueID)\n",
    "    \n",
    "    #Build Graphs\n",
    "    prbDict=defaultdict(list)\n",
    "    graphRev=defaultdict(list)\n",
    "    for i in prbNet:\n",
    "        prbDict[i[0]].append(i[1])\n",
    "        graphRev[i[1]].append(i[0])\n",
    "    #Solution.  Add those that only receive, so head\n",
    "    for i in diffinHead.tolist():\n",
    "        graphRev[i]=[]\n",
    "    for i in diffinTail.tolist():\n",
    "        prbDict[i]=[]\n",
    "    \n",
    "    #Run the actual algorithm\n",
    "    ldTest=SSC(prbDict,graphRev,netNodes)\n",
    "    #This has given us a graph, reordered.\n",
    "    ldCount=Counter(list(ldTest.values()))\n",
    "    print('net solution \\n',ldCount.most_common(5))\n",
    "        \n",
    "thread = threading.Thread(target=main)\n",
    "thread.start()"
   ]
  },
  {
   "cell_type": "code",
   "execution_count": null,
   "metadata": {
    "collapsed": true
   },
   "outputs": [],
   "source": []
  }
 ],
 "metadata": {
  "kernelspec": {
   "display_name": "Python 3",
   "language": "python",
   "name": "python3"
  },
  "language_info": {
   "codemirror_mode": {
    "name": "ipython",
    "version": 3
   },
   "file_extension": ".py",
   "mimetype": "text/x-python",
   "name": "python",
   "nbconvert_exporter": "python",
   "pygments_lexer": "ipython3",
   "version": "3.6.2"
  }
 },
 "nbformat": 4,
 "nbformat_minor": 2
}
