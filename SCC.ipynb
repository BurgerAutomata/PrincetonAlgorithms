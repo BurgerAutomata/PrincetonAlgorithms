{
 "cells": [
  {
   "cell_type": "markdown",
   "metadata": {},
   "source": [
    "# Programming Assignment 1 Graph Algorithms\n",
    "<br>\n",
    "Your task is to code up the algorithm from the video lectures for computing strongly connected components (SCCs), and to run this algorithm on the given graph.\n",
    "<br>\n",
    "Output Format: You should output the sizes of the 5 largest SCCs in the given graph, in decreasing order of sizes, separated by commas (avoid any spaces). So if your algorithm computes the sizes of the five largest SCCs to be 500, 400, 300, 200 and 100, then your answer should be \"500,400,300,200,100\" (without the quotes). If your algorithm finds less than 5 SCCs, then write 0 for the remaining terms. Thus, if your algorithm computes only 3 SCCs whose sizes are 400, 300, and 100, then your answer should be \"400,300,100,0,0\" (without the quotes). (Note also that your answer should not have any spaces in it.)"
   ]
  },
  {
   "cell_type": "markdown",
   "metadata": {},
   "source": [
    "## Preparation"
   ]
  },
  {
   "cell_type": "code",
   "execution_count": 79,
   "metadata": {},
   "outputs": [],
   "source": [
    "#various common imports\n",
    "import numpy as np\n",
    "import sys\n",
    "import pandas as pd\n",
    "import random as rnd\n",
    "import copy\n",
    "#interesting to create more easily dictionaries, from https://stackoverflow.com/questions/26367812/appending-to-list-in-python-dictionary\n",
    "from collections import defaultdict\n",
    "#import resource\n",
    "import threading"
   ]
  },
  {
   "cell_type": "code",
   "execution_count": 70,
   "metadata": {},
   "outputs": [],
   "source": [
    "#Careful recursion and stack preparation. Apparently absolutely necessary\n",
    "sys.setrecursionlimit(4000)\n",
    "#hardlimit = resource.getrlimit(resource.RLIMIT_STACK)[1]"
   ]
  },
  {
   "cell_type": "markdown",
   "metadata": {},
   "source": [
    "### File import\n",
    "<br>\n",
    "The file contains the edges of a directed graph. Vertices are labeled as positive integers from 1 to 875714. Every row indicates an edge, the vertex label in first column is the tail and the vertex label in second column is the head (recall the graph is directed, and the edges are directed from the first column vertex to the second column vertex). So for example, the 11^{th}11 \n",
    "th row looks liks : \"2 47646\". This just means that the vertex with label 2 has an outgoing edge to the vertex with label 47646"
   ]
  },
  {
   "cell_type": "code",
   "execution_count": 2,
   "metadata": {
    "collapsed": true
   },
   "outputs": [],
   "source": [
    "input_file = 'SCC.txt'\n",
    "with open(input_file, 'r') as data:\n",
    "    line = data.read().strip().split(\"\\n\")\n",
    "#produces correctly elements with 2 values"
   ]
  },
  {
   "cell_type": "code",
   "execution_count": 6,
   "metadata": {},
   "outputs": [
    {
     "data": {
      "text/plain": [
       "5105043"
      ]
     },
     "execution_count": 6,
     "metadata": {},
     "output_type": "execute_result"
    }
   ],
   "source": [
    "len(line)"
   ]
  },
  {
   "cell_type": "code",
   "execution_count": 14,
   "metadata": {},
   "outputs": [
    {
     "data": {
      "text/plain": [
       "'1 2'"
      ]
     },
     "execution_count": 14,
     "metadata": {},
     "output_type": "execute_result"
    }
   ],
   "source": [
    "line[1].strip()"
   ]
  },
  {
   "cell_type": "code",
   "execution_count": 13,
   "metadata": {},
   "outputs": [
    {
     "data": {
      "text/plain": [
       "['1', '2']"
      ]
     },
     "execution_count": 13,
     "metadata": {},
     "output_type": "execute_result"
    }
   ],
   "source": [
    "line[1].split()"
   ]
  },
  {
   "cell_type": "markdown",
   "metadata": {},
   "source": [
    "Maybe turn into a **tuple** ?\n",
    "<br>\n",
    "Suggested to represent as adjacency list\n",
    "<br>"
   ]
  },
  {
   "cell_type": "code",
   "execution_count": 25,
   "metadata": {},
   "outputs": [],
   "source": [
    "prbNet=[[int(s) for s in lin.split()] for lin in line]"
   ]
  },
  {
   "cell_type": "code",
   "execution_count": 32,
   "metadata": {},
   "outputs": [
    {
     "name": "stdout",
     "output_type": "stream",
     "text": [
      "[ 1  2  3  4  5  6  7  8  9 10 11 12 13 14 15 16 17 18 19 20 21 22 23 24 25\n",
      " 26 27 28 29 30]\n"
     ]
    }
   ],
   "source": [
    "#Adjacency list\n",
    "prbNet2=np.array(prbNet)\n",
    "uniqueID=np.unique(prbNet2)\n",
    "print(uniqueID[:30])"
   ]
  },
  {
   "cell_type": "code",
   "execution_count": 85,
   "metadata": {},
   "outputs": [],
   "source": [
    "#All unique values in the head of vertices\n",
    "uniqueHead=np.unique(prbNet2[:,0])"
   ]
  },
  {
   "cell_type": "code",
   "execution_count": 86,
   "metadata": {},
   "outputs": [
    {
     "data": {
      "text/plain": [
       "739454"
      ]
     },
     "execution_count": 86,
     "metadata": {},
     "output_type": "execute_result"
    }
   ],
   "source": [
    "len(uniqueHead)"
   ]
  },
  {
   "cell_type": "code",
   "execution_count": 77,
   "metadata": {},
   "outputs": [
    {
     "data": {
      "text/plain": [
       "1"
      ]
     },
     "execution_count": 77,
     "metadata": {},
     "output_type": "execute_result"
    }
   ],
   "source": [
    "uniqueID[0]"
   ]
  },
  {
   "cell_type": "code",
   "execution_count": 87,
   "metadata": {
    "collapsed": true
   },
   "outputs": [],
   "source": [
    "#All unique values in the tail of vertices\n",
    "uniqueTail=np.unique(prbNet2[:,1])"
   ]
  },
  {
   "cell_type": "code",
   "execution_count": 88,
   "metadata": {},
   "outputs": [
    {
     "data": {
      "text/plain": [
       "714547"
      ]
     },
     "execution_count": 88,
     "metadata": {},
     "output_type": "execute_result"
    }
   ],
   "source": [
    "len(uniqueTail)"
   ]
  },
  {
   "cell_type": "code",
   "execution_count": 76,
   "metadata": {},
   "outputs": [
    {
     "data": {
      "text/plain": [
       "[0, 1, 2, 3]"
      ]
     },
     "execution_count": 76,
     "metadata": {},
     "output_type": "execute_result"
    }
   ],
   "source": [
    "list(range(4))"
   ]
  },
  {
   "cell_type": "code",
   "execution_count": 78,
   "metadata": {},
   "outputs": [
    {
     "name": "stdout",
     "output_type": "stream",
     "text": [
      "[ True  True  True ...,  True  True  True]\n"
     ]
    }
   ],
   "source": [
    "print(uniqueID==list(range(1,875715)))"
   ]
  },
  {
   "cell_type": "code",
   "execution_count": 89,
   "metadata": {
    "collapsed": true
   },
   "outputs": [],
   "source": [
    "diffinHead=np.setdiff1d(uniqueHead,uniqueTail)"
   ]
  },
  {
   "cell_type": "code",
   "execution_count": 90,
   "metadata": {},
   "outputs": [
    {
     "data": {
      "text/plain": [
       "161167"
      ]
     },
     "execution_count": 90,
     "metadata": {},
     "output_type": "execute_result"
    }
   ],
   "source": [
    "len(diffinHead)"
   ]
  },
  {
   "cell_type": "code",
   "execution_count": 92,
   "metadata": {},
   "outputs": [
    {
     "data": {
      "text/plain": [
       "array([ 253,  435,  637, 1181, 1218, 1254, 1522, 1656, 1904, 2136])"
      ]
     },
     "execution_count": 92,
     "metadata": {},
     "output_type": "execute_result"
    }
   ],
   "source": [
    "diffinHead[:10]"
   ]
  },
  {
   "cell_type": "code",
   "execution_count": 91,
   "metadata": {
    "collapsed": true
   },
   "outputs": [],
   "source": [
    "diffinTail=np.setdiff1d(uniqueTail,uniqueHead)"
   ]
  },
  {
   "cell_type": "code",
   "execution_count": 93,
   "metadata": {},
   "outputs": [
    {
     "data": {
      "text/plain": [
       "136260"
      ]
     },
     "execution_count": 93,
     "metadata": {},
     "output_type": "execute_result"
    }
   ],
   "source": [
    "len(diffinTail)"
   ]
  },
  {
   "cell_type": "code",
   "execution_count": 94,
   "metadata": {},
   "outputs": [
    {
     "data": {
      "text/plain": [
       "array([  4,  21,  37,  39, 108, 150, 174, 223, 230, 232])"
      ]
     },
     "execution_count": 94,
     "metadata": {},
     "output_type": "execute_result"
    }
   ],
   "source": [
    "diffinTail[:10]"
   ]
  },
  {
   "cell_type": "markdown",
   "metadata": {},
   "source": [
    "There is a clear difference in the size of the two, so <br>\n",
    "- Value that are unique in the heads,but are not in tails are nodes from which the graph is only outgoing\n",
    "- On the reverse, values that are unique in tails and that are not in heads are nodes from which the graph is only ingoing\n",
    "<br>\n",
    "The dictionary generating routine will need to add for the normal graph those that are unique in the tails because they don't ever have their value on the first position of the vertices, and to the reverse graphs those that are unique in the heads,because they don't ever have their value on the second position.\n",
    "<br>\n",
    "These should be added or not? Hard to say, as we can still keep the list of uniqueIDs as a list of nodes."
   ]
  },
  {
   "cell_type": "code",
   "execution_count": 41,
   "metadata": {},
   "outputs": [
    {
     "data": {
      "text/plain": [
       "[[1, 1],\n",
       " [1, 2],\n",
       " [1, 5],\n",
       " [1, 6],\n",
       " [1, 7],\n",
       " [1, 3],\n",
       " [1, 8],\n",
       " [1, 4],\n",
       " [2, 47646],\n",
       " [2, 47647]]"
      ]
     },
     "execution_count": 41,
     "metadata": {},
     "output_type": "execute_result"
    }
   ],
   "source": [
    "#Remember how the problem is structured\n",
    "prbNet[:10]"
   ]
  },
  {
   "cell_type": "code",
   "execution_count": 44,
   "metadata": {
    "scrolled": true
   },
   "outputs": [
    {
     "data": {
      "text/plain": [
       "[47646, 47647, 13019, 47648, 47649, 47650, 7700, 47651, 47652]"
      ]
     },
     "execution_count": 44,
     "metadata": {},
     "output_type": "execute_result"
    }
   ],
   "source": [
    "prbNet2[prbNet2[:,0] == 2,1].tolist()"
   ]
  },
  {
   "cell_type": "code",
   "execution_count": 46,
   "metadata": {},
   "outputs": [
    {
     "data": {
      "text/plain": [
       "[[2, 47646],\n",
       " [2, 47647],\n",
       " [2, 13019],\n",
       " [2, 47648],\n",
       " [2, 47649],\n",
       " [2, 47650],\n",
       " [2, 7700],\n",
       " [2, 47651],\n",
       " [2, 47652]]"
      ]
     },
     "execution_count": 46,
     "metadata": {},
     "output_type": "execute_result"
    }
   ],
   "source": [
    "list(filter(lambda x : x[0]==2,prbNet))"
   ]
  },
  {
   "cell_type": "code",
   "execution_count": 48,
   "metadata": {
    "collapsed": true
   },
   "outputs": [],
   "source": [
    "#Quite an interesting form of high performance container https://docs.python.org/2/library/collections.html#collections.defaultdict"
   ]
  },
  {
   "cell_type": "code",
   "execution_count": 57,
   "metadata": {},
   "outputs": [
    {
     "name": "stdout",
     "output_type": "stream",
     "text": [
      "defaultdict(<class 'list'>, {})\n",
      "defaultdict(<class 'list'>, {'D': [5]})\n",
      "defaultdict(<class 'list'>, {'D': [5, 6]})\n",
      "defaultdict(<class 'list'>, {'D': [5, 6], 'C': [8]})\n",
      "[5, 6]\n",
      "<class 'list'>\n"
     ]
    }
   ],
   "source": [
    "test=defaultdict(list)\n",
    "print(test)\n",
    "test['D'].append(5)\n",
    "print(test)\n",
    "test['D'].append(6)\n",
    "print(test)\n",
    "test['C'].append(8)\n",
    "print(test)\n",
    "print(test['D'])\n",
    "print(type(test['D']))"
   ]
  },
  {
   "cell_type": "code",
   "execution_count": 84,
   "metadata": {
    "collapsed": true
   },
   "outputs": [],
   "source": [
    "for i in prbNet:\n",
    "    if len(i)<2:\n",
    "        print('node',i, \"is strange\")"
   ]
  },
  {
   "cell_type": "code",
   "execution_count": 59,
   "metadata": {},
   "outputs": [],
   "source": [
    "prbDict=defaultdict(list)\n",
    "for i in prbNet:\n",
    "    prbDict[str(i[0])].append(i[1])"
   ]
  },
  {
   "cell_type": "code",
   "execution_count": 60,
   "metadata": {},
   "outputs": [
    {
     "data": {
      "text/plain": [
       "[47646, 47647, 13019, 47648, 47649, 47650, 7700, 47651, 47652]"
      ]
     },
     "execution_count": 60,
     "metadata": {},
     "output_type": "execute_result"
    }
   ],
   "source": [
    "prbDict['2']"
   ]
  },
  {
   "cell_type": "code",
   "execution_count": 95,
   "metadata": {},
   "outputs": [
    {
     "data": {
      "text/plain": [
       "[254, 255, 256]"
      ]
     },
     "execution_count": 95,
     "metadata": {},
     "output_type": "execute_result"
    }
   ],
   "source": [
    "#Test with one that should have no ingoing\n",
    "prbDict[str(diffinHead[0])]"
   ]
  },
  {
   "cell_type": "code",
   "execution_count": 96,
   "metadata": {},
   "outputs": [
    {
     "data": {
      "text/plain": [
       "[[253, 254], [253, 255], [253, 256]]"
      ]
     },
     "execution_count": 96,
     "metadata": {},
     "output_type": "execute_result"
    }
   ],
   "source": [
    "list(filter(lambda x : x[0]==diffinHead[0],prbNet))"
   ]
  },
  {
   "cell_type": "code",
   "execution_count": 63,
   "metadata": {},
   "outputs": [
    {
     "data": {
      "text/plain": [
       "[[5, 9],\n",
       " [11, 9],\n",
       " [26, 9],\n",
       " [32, 9],\n",
       " [71106, 9],\n",
       " [71107, 9],\n",
       " [71110, 9],\n",
       " [71112, 9],\n",
       " [104769, 9],\n",
       " [104773, 9],\n",
       " [104807, 9],\n",
       " [115331, 9],\n",
       " [280789, 9],\n",
       " [292544, 9],\n",
       " [297779, 9],\n",
       " [467260, 9],\n",
       " [547599, 9],\n",
       " [675019, 9],\n",
       " [732157, 9],\n",
       " [832536, 9],\n",
       " [851820, 9],\n",
       " [874197, 9]]"
      ]
     },
     "execution_count": 63,
     "metadata": {},
     "output_type": "execute_result"
    }
   ],
   "source": [
    "#Let's check out if it also works for reversal\n",
    "#Want to see ALL nodes that go to 9, instead of where 9 goes to\n",
    "list(filter(lambda x : x[1]==9,prbNet))"
   ]
  },
  {
   "cell_type": "code",
   "execution_count": 64,
   "metadata": {
    "scrolled": true
   },
   "outputs": [
    {
     "data": {
      "text/plain": [
       "[[9, 71107],\n",
       " [9, 71108],\n",
       " [9, 71109],\n",
       " [9, 21],\n",
       " [9, 71110],\n",
       " [9, 71111],\n",
       " [9, 39350],\n",
       " [9, 71112],\n",
       " [9, 71113]]"
      ]
     },
     "execution_count": 64,
     "metadata": {},
     "output_type": "execute_result"
    }
   ],
   "source": [
    "#where 9 goes to\n",
    "list(filter(lambda x : x[0]==9,prbNet))"
   ]
  },
  {
   "cell_type": "code",
   "execution_count": 66,
   "metadata": {},
   "outputs": [],
   "source": [
    "graphRev=defaultdict(list)\n",
    "for i in prbNet:\n",
    "    graphRev[str(i[1])].append(i[0])"
   ]
  },
  {
   "cell_type": "code",
   "execution_count": 67,
   "metadata": {},
   "outputs": [
    {
     "data": {
      "text/plain": [
       "[5,\n",
       " 11,\n",
       " 26,\n",
       " 32,\n",
       " 71106,\n",
       " 71107,\n",
       " 71110,\n",
       " 71112,\n",
       " 104769,\n",
       " 104773,\n",
       " 104807,\n",
       " 115331,\n",
       " 280789,\n",
       " 292544,\n",
       " 297779,\n",
       " 467260,\n",
       " 547599,\n",
       " 675019,\n",
       " 732157,\n",
       " 832536,\n",
       " 851820,\n",
       " 874197]"
      ]
     },
     "execution_count": 67,
     "metadata": {},
     "output_type": "execute_result"
    }
   ],
   "source": [
    "graphRev['9']"
   ]
  },
  {
   "cell_type": "code",
   "execution_count": 80,
   "metadata": {},
   "outputs": [
    {
     "data": {
      "text/plain": [
       "714547"
      ]
     },
     "execution_count": 80,
     "metadata": {},
     "output_type": "execute_result"
    }
   ],
   "source": [
    "len(graphRev)"
   ]
  },
  {
   "cell_type": "code",
   "execution_count": null,
   "metadata": {
    "collapsed": true
   },
   "outputs": [],
   "source": []
  },
  {
   "cell_type": "markdown",
   "metadata": {},
   "source": [
    "### Test Cases\n",
    "<br>\n",
    "Test cases imported from the forums\n"
   ]
  },
  {
   "cell_type": "code",
   "execution_count": 18,
   "metadata": {},
   "outputs": [],
   "source": [
    "test_Dict={\n",
    "    'A':[[1, 4],[2, 8],[3, 6],[4, 7],[5, 2],[6, 9],[7, 1],[8, 5],[8, 6],[9, 7],[9, 3]],\n",
    "    'B':[[1, 2],[2, 6],[2, 3],[2, 4],[3, 1],[3, 4],[4, 5],[5, 4],[6, 5],[6, 7],[7, 6],[7, 8],[8, 5],[8, 7]],\n",
    "    'C':[[1, 2],[2, 3],[3, 1],[3, 4],[5, 4],[6, 4],[8, 6],[6, 7],[7, 8]],\n",
    "    'D':[[1, 2],[2, 3],[3, 1],[3, 4],[5, 4],[6, 4],[8, 6],[6, 7],[7, 8],[4, 3],[4, 6]],\n",
    "    'E':[[1, 2],[2, 3],[2, 4],[2, 5],[3, 6],[4, 5],[4, 7],[5, 2],[5, 6],[5, 7],[6, 3],[6, 8],[7, 8],[7, 10],[8, 7],[9, 7],[10, 9],[10, 11]\n",
    "        ,[11, 12],[12, 10]]\n",
    "}\n",
    "\n",
    "ans_Dict={\n",
    "    'A':[3,3,3,0,0],\n",
    "    'B':[3,3,2,0,0],\n",
    "    'C':[3,3,1,1,0],\n",
    "    'D':[7,1,0,0,0],\n",
    "    'E':[6,3,2,1,0]\n",
    "}"
   ]
  },
  {
   "cell_type": "code",
   "execution_count": 36,
   "metadata": {},
   "outputs": [
    {
     "name": "stdout",
     "output_type": "stream",
     "text": [
      "[[1, 2, 3, 4, 5, 6, 7, 8, 9], [1, 2, 3, 4, 5, 6, 7, 8], [1, 2, 3, 4, 5, 6, 7, 8], [1, 2, 3, 4, 5, 6, 7, 8], [1, 2, 3, 4, 5, 6, 7, 8, 9, 10, 11, 12]]\n"
     ]
    }
   ],
   "source": [
    "#Turn into adjacency list\n",
    "#First get all unique values\n",
    "testIDs=[]\n",
    "for i, k in test_Dict.items():\n",
    "    testIDs.append(np.unique(np.array(k)).tolist())\n",
    "print(testIDs)"
   ]
  },
  {
   "cell_type": "code",
   "execution_count": null,
   "metadata": {
    "collapsed": true
   },
   "outputs": [],
   "source": [
    "#Turn all lists into dictionaries"
   ]
  },
  {
   "cell_type": "markdown",
   "metadata": {},
   "source": [
    "## Actual Code\n",
    "\n",
    "Look at\n",
    "https://github.com/ladamalina/coursera-algo/blob/master/PQ4.%20SCCs/kosaraju.py\n",
    "<br>\n"
   ]
  },
  {
   "cell_type": "code",
   "execution_count": null,
   "metadata": {
    "collapsed": true
   },
   "outputs": [],
   "source": [
    "#Define"
   ]
  },
  {
   "cell_type": "markdown",
   "metadata": {},
   "source": [
    "## Run cases\n",
    "<br>\n",
    "Let's try it first\n",
    "### Test Cases"
   ]
  },
  {
   "cell_type": "code",
   "execution_count": null,
   "metadata": {
    "collapsed": true
   },
   "outputs": [],
   "source": [
    "#Test cases"
   ]
  },
  {
   "cell_type": "markdown",
   "metadata": {},
   "source": [
    "### Problem Case\n",
    "<br>\n",
    "Some suggestions from the forum"
   ]
  },
  {
   "cell_type": "code",
   "execution_count": null,
   "metadata": {
    "collapsed": true
   },
   "outputs": [],
   "source": [
    "sys.setrecursionlimit(800000)\n",
    "threading.stack_size(67108864)\n",
    "\n",
    "def main():\n",
    "  '''\n",
    "  YOUR CODE HERE\n",
    "  '''\n",
    "thread = threading.Thread(target=main)\n",
    "thread.start()"
   ]
  }
 ],
 "metadata": {
  "kernelspec": {
   "display_name": "Python 3",
   "language": "python",
   "name": "python3"
  },
  "language_info": {
   "codemirror_mode": {
    "name": "ipython",
    "version": 3
   },
   "file_extension": ".py",
   "mimetype": "text/x-python",
   "name": "python",
   "nbconvert_exporter": "python",
   "pygments_lexer": "ipython3",
   "version": "3.6.2"
  }
 },
 "nbformat": 4,
 "nbformat_minor": 2
}
