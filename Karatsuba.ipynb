{
  "nbformat": 4,
  "nbformat_minor": 0,
  "metadata": {
    "colab": {
      "name": "Karatsuba.ipynb",
      "version": "0.3.2",
      "provenance": [],
      "collapsed_sections": [],
      "include_colab_link": true
    },
    "kernelspec": {
      "name": "python3",
      "display_name": "Python 3"
    }
  },
  "cells": [
    {
      "cell_type": "markdown",
      "metadata": {
        "id": "view-in-github",
        "colab_type": "text"
      },
      "source": [
        "[View in Colaboratory](https://colab.research.google.com/github/BurgerAutomata/PrincetonAlgorithms/blob/master/Karatsuba.ipynb)"
      ]
    },
    {
      "metadata": {
        "id": "FeVFj701EvQC",
        "colab_type": "text"
      },
      "cell_type": "markdown",
      "source": [
        "Defines and runs an implementation of **Karatsuba algorithm**, testing it against existing python solutions for large numbers.<br>\n",
        "Large numbers are generated randomly."
      ]
    },
    {
      "metadata": {
        "id": "Bo_OELJiU-41",
        "colab_type": "text"
      },
      "cell_type": "markdown",
      "source": [
        "Notes\n",
        "\n",
        "---\n",
        "\n",
        "\n",
        "https://repl.it/repls/IntentionalConfusedScarab\n",
        "<br>\n",
        "https://pythonandr.com/2015/10/13/karatsuba-multiplication-algorithm-python-code/\n",
        "<br>\n",
        "https://www.nayuki.io/page/karatsuba-multiplication\n"
      ]
    },
    {
      "metadata": {
        "id": "jWTv-w7KCFMi",
        "colab_type": "code",
        "colab": {}
      },
      "cell_type": "code",
      "source": [
        "from math import ceil, floor\n",
        "import random\n",
        "import sys\n",
        "#set random seed\n",
        "random.seed(9001)\n"
      ],
      "execution_count": 0,
      "outputs": []
    },
    {
      "metadata": {
        "id": "M0fobYXbUD14",
        "colab_type": "code",
        "colab": {}
      },
      "cell_type": "code",
      "source": [
        "#All of these are necessary because of recursion limits!\n",
        "sys.getrecursionlimit()\n",
        "\n",
        "sys.setrecursionlimit(2000)\n",
        "\n",
        "_CUTOFF = 1536\n",
        "\n"
      ],
      "execution_count": 0,
      "outputs": []
    },
    {
      "metadata": {
        "id": "-5XggkmbFtge",
        "colab_type": "code",
        "colab": {}
      },
      "cell_type": "code",
      "source": [
        "#Define Karatsuba algorithm\n",
        "def karatsuba(dig1,dig2):\n",
        "    #stop immediately for base case\n",
        "    if dig1.bit_length() <= _CUTOFF or dig2.bit_length() <= _CUTOFF:\n",
        "      return dig1*dig2\n",
        "    #split\n",
        "    m = max(len(str(dig1)), len(str(dig1)))\n",
        "    #max(int(log10(x)+1), int(log10(y)+1))\n",
        "    m2 = m/2\n",
        "    #recursive part\n",
        "    #High and Low alternated\n",
        "    a = dig1 / 10**(m2)\n",
        "    b = dig1 % 10**(m2)\n",
        "    c = dig2 / 10**(m2)\n",
        "    d = dig2 % 10**(m2)\n",
        "    ac = karatsuba(a,c)\n",
        "    bd = karatsuba(b,d)\n",
        "    el3=karatsuba(a+b,c+d)\n",
        "    adbc = el3 - ac - bd\n",
        "    #return product\n",
        "    return ac*(10**(2*m2))+adbc*(10**m2)+bd"
      ],
      "execution_count": 0,
      "outputs": []
    },
    {
      "metadata": {
        "id": "16r7H66oKbws",
        "colab_type": "code",
        "colab": {
          "base_uri": "https://localhost:8080/",
          "height": 119
        },
        "outputId": "b9726d81-a440-4e60-f2d1-fe7f478bf42b"
      },
      "cell_type": "code",
      "source": [
        "digit1=3141592653589793238462643383279502884197169399375105820974944592\n",
        "digit2=2718281828459045235360287471352662497757247093699959574966967627\n",
        "m = max(len(str(digit1)), len(str(digit2)))\n",
        "m2 = int(ceil(float(m)/2))\n",
        "a = digit1 / 10**(m2)\n",
        "b = digit1 % 10**(m2)\n",
        "c = digit2 / 10**(m2)\n",
        "d = digit2 % 10**(m2)\n",
        "print('m=',m)\n",
        "print('m2=',m2)\n",
        "print(int(a))\n",
        "print(b)\n",
        "print(int(c))\n",
        "print(d)"
      ],
      "execution_count": 5,
      "outputs": [
        {
          "output_type": "stream",
          "text": [
            "m= 64\n",
            "m2= 32\n",
            "31415926535897933290036940242944\n",
            "2884197169399375105820974944592\n",
            "27182818284590451226528693878784\n",
            "62497757247093699959574966967627\n"
          ],
          "name": "stdout"
        }
      ]
    },
    {
      "metadata": {
        "id": "0LIEuWHgE6fr",
        "colab_type": "code",
        "colab": {
          "base_uri": "https://localhost:8080/",
          "height": 357
        },
        "outputId": "b587c2ad-f690-4c4a-d878-c7af4a48d95e"
      },
      "cell_type": "code",
      "source": [
        "\n",
        "for i in range(10):\n",
        "  print('Test number ',i)\n",
        "  testdigit1a=random.randrange(10, 10*10, 1)\n",
        "  testdigit1b=testdigit1a-1\n",
        "  print(karatsuba(testdigit1a,testdigit1b)==testdigit1a*testdigit1b)\n",
        "  "
      ],
      "execution_count": 32,
      "outputs": [
        {
          "output_type": "stream",
          "text": [
            "Test number  0\n",
            "True\n",
            "Test number  1\n",
            "True\n",
            "Test number  2\n",
            "True\n",
            "Test number  3\n",
            "True\n",
            "Test number  4\n",
            "True\n",
            "Test number  5\n",
            "True\n",
            "Test number  6\n",
            "True\n",
            "Test number  7\n",
            "True\n",
            "Test number  8\n",
            "True\n",
            "Test number  9\n",
            "True\n"
          ],
          "name": "stdout"
        }
      ]
    },
    {
      "metadata": {
        "id": "CDLCiCLDUfNK",
        "colab_type": "code",
        "colab": {
          "base_uri": "https://localhost:8080/",
          "height": 34
        },
        "outputId": "273a7514-6961-4932-a75f-ffd0d9832d6b"
      },
      "cell_type": "code",
      "source": [
        "digit1=3141592653589793238462\n",
        "digit2=2718281828459045235360\n",
        "print(karatsuba(digit1,digit2)==digit1*digit2)"
      ],
      "execution_count": 30,
      "outputs": [
        {
          "output_type": "stream",
          "text": [
            "True\n"
          ],
          "name": "stdout"
        }
      ]
    },
    {
      "metadata": {
        "id": "CbFNpya6Soqe",
        "colab_type": "code",
        "colab": {
          "base_uri": "https://localhost:8080/",
          "height": 34
        },
        "outputId": "83ca3898-628a-4d25-855a-70ba8d4530db"
      },
      "cell_type": "code",
      "source": [
        "digit1=3141592653589793238462643383279502884197169399375105820974944592\n",
        "digit2=2718281828459045235360287471352662497757247093699959574966967627\n",
        "print(karatsuba(digit1,digit2)==digit1*digit2)"
      ],
      "execution_count": 31,
      "outputs": [
        {
          "output_type": "stream",
          "text": [
            "True\n"
          ],
          "name": "stdout"
        }
      ]
    },
    {
      "metadata": {
        "id": "QBskT5HCF02i",
        "colab_type": "code",
        "colab": {
          "base_uri": "https://localhost:8080/",
          "height": 34
        },
        "outputId": "b2393d0e-9a1e-4560-91ac-8eefe40a25c9"
      },
      "cell_type": "code",
      "source": [
        "print(karatsuba(digit1,digit2))"
      ],
      "execution_count": 33,
      "outputs": [
        {
          "output_type": "stream",
          "text": [
            "8539734222673567065463550869546574495034888535765114961879601127067743044893204848617875072216249073013374895871952806582723184\n"
          ],
          "name": "stdout"
        }
      ]
    }
  ]
}