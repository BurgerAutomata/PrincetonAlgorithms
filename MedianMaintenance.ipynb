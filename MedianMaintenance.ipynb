{
 "cells": [
  {
   "cell_type": "markdown",
   "metadata": {},
   "source": [
    "# Median Maintenance\n",
    "<br>"
   ]
  },
  {
   "cell_type": "markdown",
   "metadata": {},
   "source": [
    "The goal of this problem is to implement the \"Median Maintenance\" algorithm (covered in the Week 3 lecture on heap applications). The text file contains a list of the integers from 1 to 10000 in unsorted order; you should treat this as a stream of numbers, arriving one by one. \n"
   ]
  },
  {
   "cell_type": "markdown",
   "metadata": {},
   "source": [
    "## General Utilities"
   ]
  },
  {
   "cell_type": "markdown",
   "metadata": {},
   "source": [
    "### Imports"
   ]
  },
  {
   "cell_type": "code",
   "execution_count": 1,
   "metadata": {
    "collapsed": true
   },
   "outputs": [],
   "source": [
    "#try to get this modulus\n",
    "import heapdict\n",
    "import heapq\n",
    "import numpy as np\n",
    "import sys\n",
    "import os\n",
    "#import pandas as pd\n",
    "#import random as rnd\n",
    "import copy\n",
    "#interesting to create more easily dictionaries, from https://stackoverflow.com/questions/26367812/appending-to-list-in-python-dictionary\n",
    "from collections import defaultdict\n",
    "from collections import Counter\n",
    "#import resource\n",
    "import threading"
   ]
  },
  {
   "cell_type": "code",
   "execution_count": 2,
   "metadata": {
    "collapsed": true
   },
   "outputs": [],
   "source": [
    "#Careful recursion and stack preparation. Apparently absolutely necessary\n",
    "sys.setrecursionlimit(4000)\n",
    "#hardlimit = resource.getrlimit(resource.RLIMIT_STACK)[1]"
   ]
  },
  {
   "cell_type": "markdown",
   "metadata": {},
   "source": [
    "### Import Graph\n",
    "<br>\n",
    "Note:\n",
    "**OPTIONAL EXERCISE: Compare the performance achieved by heap-based and search-tree-based implementations of the algorithm.\n",
    "**\n"
   ]
  },
  {
   "cell_type": "code",
   "execution_count": 3,
   "metadata": {
    "collapsed": true
   },
   "outputs": [],
   "source": [
    "inputFile=\"Median.txt\"\n",
    "inputList = []\n",
    "\n",
    "with open(inputFile, 'r') as data:\n",
    "    line = data.read().strip().split(\"\\n\")\n",
    "inputList=list(map(int,line))"
   ]
  },
  {
   "cell_type": "code",
   "execution_count": 4,
   "metadata": {},
   "outputs": [
    {
     "data": {
      "text/plain": [
       "[6331, 2793, 1640, 9290, 225, 625, 6195, 2303, 5685, 1354]"
      ]
     },
     "execution_count": 4,
     "metadata": {},
     "output_type": "execute_result"
    }
   ],
   "source": [
    "inputList[:10]"
   ]
  },
  {
   "cell_type": "markdown",
   "metadata": {
    "collapsed": true
   },
   "source": [
    "### Test Cases\n",
    "<br> from Github repo"
   ]
  },
  {
   "cell_type": "code",
   "execution_count": 5,
   "metadata": {},
   "outputs": [
    {
     "data": {
      "text/plain": [
       "'D:\\\\Fabio\\\\Documents\\\\GitRps\\\\PrincetonAlgorithms'"
      ]
     },
     "execution_count": 5,
     "metadata": {},
     "output_type": "execute_result"
    }
   ],
   "source": [
    "import os\n",
    "os.getcwd()"
   ]
  },
  {
   "cell_type": "code",
   "execution_count": 6,
   "metadata": {
    "collapsed": true
   },
   "outputs": [],
   "source": [
    "path= os.getcwd()+'\\\\testMedian'\n",
    "listNames=[]\n",
    "with os.scandir(path) as listOfEntries:  \n",
    "    for entry in listOfEntries:\n",
    "        # print all entries that are files\n",
    "        if entry.is_file():\n",
    "            listNames.append(entry)\n",
    "#print(listNames)"
   ]
  },
  {
   "cell_type": "code",
   "execution_count": 7,
   "metadata": {
    "collapsed": true
   },
   "outputs": [],
   "source": [
    "import fnmatch\n",
    "path= os.getcwd()+'\\\\testMedian'\n",
    "listOfFiles = os.listdir(path)  \n",
    "pattern1 = \"input_random_*\"\n",
    "pattern2 = \"output_random_*\"  \n",
    "listInputsT=[]\n",
    "listOutputsT=[]\n",
    "for entry in listOfFiles:  \n",
    "    if fnmatch.fnmatch(entry, pattern1):\n",
    "        #print(entry)\n",
    "        listInputsT.append(entry)\n",
    "    elif fnmatch.fnmatch(entry, pattern2):\n",
    "        #print(entry)\n",
    "        listOutputsT.append(entry)"
   ]
  },
  {
   "cell_type": "code",
   "execution_count": 8,
   "metadata": {
    "collapsed": true
   },
   "outputs": [],
   "source": [
    "import re\n",
    "listCases=[]\n",
    "#extList=list(filter(re.search(r),listInputsT))\n",
    "for fname in listInputsT:\n",
    "    res = re.findall(\"(?<=input_random_)\\w+\", fname)\n",
    "    if not res: continue\n",
    "    listCases.append(res[0]) # You can append the result to a list"
   ]
  },
  {
   "cell_type": "code",
   "execution_count": 9,
   "metadata": {},
   "outputs": [
    {
     "data": {
      "text/plain": [
       "['10_40',\n",
       " '11_40',\n",
       " '12_40',\n",
       " '13_80',\n",
       " '14_80',\n",
       " '15_80',\n",
       " '16_80',\n",
       " '17_160',\n",
       " '18_160',\n",
       " '19_160',\n",
       " '1_10',\n",
       " '20_160',\n",
       " '21_320',\n",
       " '22_320',\n",
       " '23_320',\n",
       " '24_320',\n",
       " '25_640',\n",
       " '26_640',\n",
       " '27_640',\n",
       " '28_640',\n",
       " '29_1280',\n",
       " '2_10',\n",
       " '30_1280',\n",
       " '31_1280',\n",
       " '32_1280',\n",
       " '33_2560',\n",
       " '34_2560',\n",
       " '35_2560',\n",
       " '36_2560',\n",
       " '37_5120',\n",
       " '38_5120',\n",
       " '39_5120',\n",
       " '3_10',\n",
       " '40_5120',\n",
       " '41_10000',\n",
       " '42_10000',\n",
       " '43_10000',\n",
       " '44_10000',\n",
       " '4_10',\n",
       " '5_20',\n",
       " '6_20',\n",
       " '7_20',\n",
       " '8_20',\n",
       " '9_40']"
      ]
     },
     "execution_count": 9,
     "metadata": {},
     "output_type": "execute_result"
    }
   ],
   "source": [
    "listCases"
   ]
  },
  {
   "cell_type": "code",
   "execution_count": 10,
   "metadata": {},
   "outputs": [
    {
     "name": "stdout",
     "output_type": "stream",
     "text": [
      "importing : 10_40\n",
      "importing : 11_40\n",
      "importing : 12_40\n",
      "importing : 13_80\n",
      "importing : 14_80\n",
      "importing : 15_80\n",
      "importing : 16_80\n",
      "importing : 17_160\n",
      "importing : 18_160\n",
      "importing : 19_160\n",
      "importing : 1_10\n",
      "importing : 20_160\n",
      "importing : 21_320\n",
      "importing : 22_320\n",
      "importing : 23_320\n",
      "importing : 24_320\n",
      "importing : 25_640\n",
      "importing : 26_640\n",
      "importing : 27_640\n",
      "importing : 28_640\n",
      "importing : 29_1280\n",
      "importing : 2_10\n",
      "importing : 30_1280\n",
      "importing : 31_1280\n",
      "importing : 32_1280\n",
      "importing : 33_2560\n",
      "importing : 34_2560\n",
      "importing : 35_2560\n",
      "importing : 36_2560\n",
      "importing : 37_5120\n",
      "importing : 38_5120\n",
      "importing : 39_5120\n",
      "importing : 3_10\n",
      "importing : 40_5120\n",
      "importing : 41_10000\n",
      "importing : 42_10000\n",
      "importing : 43_10000\n",
      "importing : 44_10000\n",
      "importing : 4_10\n",
      "importing : 5_20\n",
      "importing : 6_20\n",
      "importing : 7_20\n",
      "importing : 8_20\n",
      "importing : 9_40\n"
     ]
    }
   ],
   "source": [
    "#All are in perfect order so I don't think there is too much worry about matching\n",
    "#Import into solution space\n",
    "testInputs={}\n",
    "testAnswers={}\n",
    "\n",
    "for j in listCases:\n",
    "    print('importing :',j)\n",
    "    with open(path+'\\\\'+'output_random_'+j+'.txt', 'r') as data:\n",
    "        testAnswers[j] = list(map(int,data.read().strip().split(\",\")))\n",
    "    with open(path+'\\\\'+'input_random_'+j+'.txt', 'r') as data:\n",
    "        testInputs[j] = list(map(int,data.read().strip().split(\"\\n\")))\n",
    "\n",
    "#all the others are literally not needed"
   ]
  },
  {
   "cell_type": "code",
   "execution_count": 11,
   "metadata": {},
   "outputs": [
    {
     "data": {
      "text/plain": [
       "[695]"
      ]
     },
     "execution_count": 11,
     "metadata": {},
     "output_type": "execute_result"
    }
   ],
   "source": [
    "testAnswers['10_40']"
   ]
  },
  {
   "cell_type": "code",
   "execution_count": 12,
   "metadata": {},
   "outputs": [
    {
     "data": {
      "text/plain": [
       "[28,\n",
       " 7,\n",
       " 32,\n",
       " 13,\n",
       " 21,\n",
       " 3,\n",
       " 4,\n",
       " 26,\n",
       " 12,\n",
       " 36,\n",
       " 18,\n",
       " 9,\n",
       " 23,\n",
       " 1,\n",
       " 25,\n",
       " 16,\n",
       " 11,\n",
       " 5,\n",
       " 34,\n",
       " 29,\n",
       " 38,\n",
       " 37,\n",
       " 10,\n",
       " 33,\n",
       " 19,\n",
       " 30,\n",
       " 14,\n",
       " 2,\n",
       " 27,\n",
       " 8,\n",
       " 17,\n",
       " 31,\n",
       " 40,\n",
       " 35,\n",
       " 15,\n",
       " 24,\n",
       " 20,\n",
       " 39,\n",
       " 6,\n",
       " 22]"
      ]
     },
     "execution_count": 12,
     "metadata": {},
     "output_type": "execute_result"
    }
   ],
   "source": [
    "testInputs['10_40']"
   ]
  },
  {
   "cell_type": "markdown",
   "metadata": {},
   "source": [
    "## Working Code\n",
    "<Br> Remember the algorithm using heap<br>\n",
    "Why  Heap? Seems easier and with less code.<br>\n",
    "We can work  with **HeapQ** because while it doesn't have a max, we can change the sign and cheat. We need the min of the ones larger and the max of the smallers.\n",
    "<br>\n",
    "Turn the smaller ones into negatives<br>\n",
    "How to use input though?\n",
    "<br> Remember that input is a stream. So perhaps a changing global variable?\n"
   ]
  },
  {
   "cell_type": "code",
   "execution_count": 27,
   "metadata": {
    "collapsed": true
   },
   "outputs": [],
   "source": [
    "def medMaint(newN):\n",
    "    #receives as input a new number\n",
    "    global lowH\n",
    "    #remember the low heap has to be negative, so that we can use the min function as a max\n",
    "    global highH\n",
    "    #initialize minheap\n",
    "    #initialize maxheap\n",
    "    #these are empty. First number is automatically the median\n",
    "    if len(lowH)==0:\n",
    "        heapq.heappush(lowH,-newN)\n",
    "        return -lowH[0]\n",
    "    median=-lowH[0]\n",
    "    if newN>median:\n",
    "        #add to the higher heap\n",
    "        heapq.heappush(highH,newN)\n",
    "        #rebalance the two heaps\n",
    "        #Remember they are allowed to be different at most by 1\n",
    "        #Give slight advantage to lower heap\n",
    "        if len(highH)>len(lowH):\n",
    "               heapq.heappush(lowH,-heapq.heappop(highH))\n",
    "\n",
    "    else:\n",
    "        #add to lower heap\n",
    "        heapq.heappush(lowH,-newN)\n",
    "        #rebalance the two heaps\n",
    "        #Remember they are allowed to be different at most by 1 \n",
    "        if len(lowH)>len(highH)+1:\n",
    "            heapq.heappush(highH,-heapq.heappop(lowH))\n",
    "    return -lowH[0]"
   ]
  },
  {
   "cell_type": "markdown",
   "metadata": {},
   "source": [
    "### Test Cases\n",
    "<br>\n",
    "In the box below you should type the sum of these 10000 medians, modulo 10000 (i.e., only the last 4 digits). That is, you should compute (m_1+m_2+m_3 + \\cdots + m_{10000}) \\bmod 10000(m \n",
    "1\n",
    "​\t +m \n",
    "2\n",
    "​\t +m \n",
    "3\n",
    "​\t +⋯+m \n",
    "10000\n",
    "​\t )mod10000.\n"
   ]
  },
  {
   "cell_type": "code",
   "execution_count": 28,
   "metadata": {},
   "outputs": [
    {
     "name": "stdout",
     "output_type": "stream",
     "text": [
      "The median  23 Sum of median  23\n",
      "Low Heap [-23] High Heap []\n",
      "The median  9 Sum of median  32\n",
      "Low Heap [-9] High Heap [23]\n",
      "The median  23 Sum of median  55\n",
      "Low Heap [-23, -9] High Heap [35]\n",
      "The median  9 Sum of median  64\n",
      "Low Heap [-9, -4] High Heap [23, 35]\n",
      "The median  13 Sum of median  77\n",
      "Low Heap [-13, -4, -9] High Heap [23, 35]\n",
      "The median  13 Sum of median  90\n",
      "Low Heap [-13, -4, -9] High Heap [23, 35, 24]\n",
      "The median  13 Sum of median  103\n",
      "Low Heap [-13, -4, -9, -2] High Heap [23, 35, 24]\n",
      "The median  9 Sum of median  112\n",
      "Low Heap [-9, -5, -4, -2] High Heap [13, 23, 24, 35]\n",
      "The median  13 Sum of median  125\n",
      "Low Heap [-13, -9, -4, -2, -5] High Heap [23, 27, 24, 35]\n",
      "The median  9 Sum of median  134\n",
      "Low Heap [-9, -5, -4, -2, -1] High Heap [13, 23, 24, 35, 27]\n",
      "The median  13 Sum of median  147\n",
      "Low Heap [-13, -5, -9, -2, -1, -4] High Heap [23, 27, 24, 35, 34]\n",
      "The median  9 Sum of median  156\n",
      "Low Heap [-9, -5, -8, -2, -1, -4] High Heap [13, 27, 23, 35, 34, 24]\n",
      "The median  13 Sum of median  169\n",
      "Low Heap [-13, -5, -9, -2, -1, -4, -8] High Heap [15, 27, 23, 35, 34, 24]\n",
      "The median  13 Sum of median  182\n",
      "Low Heap [-13, -5, -9, -2, -1, -4, -8] High Heap [15, 27, 23, 35, 34, 24, 39]\n",
      "The median  15 Sum of median  197\n",
      "Low Heap [-15, -13, -9, -5, -1, -4, -8, -2] High Heap [23, 27, 24, 32, 34, 35, 39]\n",
      "The median  15 Sum of median  212\n",
      "Low Heap [-15, -13, -9, -5, -1, -4, -8, -2] High Heap [22, 23, 24, 27, 34, 35, 39, 32]\n",
      "The median  22 Sum of median  234\n",
      "Low Heap [-22, -15, -9, -13, -1, -4, -8, -2, -5] High Heap [23, 27, 24, 29, 34, 35, 39, 32]\n",
      "The median  21 Sum of median  255\n",
      "Low Heap [-21, -15, -9, -13, -1, -4, -8, -2, -5] High Heap [22, 23, 24, 27, 34, 35, 39, 32, 29]\n",
      "The median  21 Sum of median  276\n",
      "Low Heap [-21, -19, -9, -13, -15, -4, -8, -2, -5, -1] High Heap [22, 23, 24, 27, 34, 35, 39, 32, 29]\n",
      "The median  20 Sum of median  296\n",
      "Low Heap [-20, -19, -9, -13, -15, -4, -8, -2, -5, -1] High Heap [21, 22, 24, 27, 23, 35, 39, 32, 29, 34]\n",
      "The median  21 Sum of median  317\n",
      "Low Heap [-21, -20, -9, -13, -19, -4, -8, -2, -5, -1, -15] High Heap [22, 23, 24, 27, 34, 35, 39, 32, 29, 36]\n",
      "The median  21 Sum of median  338\n",
      "Low Heap [-21, -20, -9, -13, -19, -4, -8, -2, -5, -1, -15] High Heap [22, 23, 24, 27, 33, 35, 39, 32, 29, 36, 34]\n",
      "The median  21 Sum of median  359\n",
      "Low Heap [-21, -20, -9, -13, -19, -7, -8, -2, -5, -1, -15, -4] High Heap [22, 23, 24, 27, 33, 35, 39, 32, 29, 36, 34]\n",
      "The median  21 Sum of median  380\n",
      "Low Heap [-21, -20, -9, -13, -19, -7, -8, -2, -5, -1, -15, -4] High Heap [22, 23, 24, 27, 33, 31, 39, 32, 29, 36, 34, 35]\n",
      "The median  21 Sum of median  401\n",
      "Low Heap [-21, -20, -14, -13, -19, -9, -8, -2, -5, -1, -15, -4, -7] High Heap [22, 23, 24, 27, 33, 31, 39, 32, 29, 36, 34, 35]\n",
      "The median  20 Sum of median  421\n",
      "Low Heap [-20, -19, -17, -13, -15, -9, -14, -2, -5, -1, -8, -4, -7] High Heap [21, 23, 22, 27, 33, 24, 39, 32, 29, 36, 34, 35, 31]\n",
      "The median  21 Sum of median  442\n",
      "Low Heap [-21, -19, -20, -13, -15, -9, -17, -2, -5, -1, -8, -4, -7, -14] High Heap [22, 23, 24, 27, 33, 31, 26, 32, 29, 36, 34, 35, 39]\n",
      "The median  20 Sum of median  462\n",
      "Low Heap [-20, -19, -17, -13, -15, -9, -16, -2, -5, -1, -8, -4, -7, -14] High Heap [21, 23, 22, 27, 33, 31, 24, 32, 29, 36, 34, 35, 39, 26]\n",
      "The median  21 Sum of median  483\n",
      "Low Heap [-21, -19, -20, -13, -15, -9, -17, -2, -5, -1, -8, -4, -7, -14, -16] High Heap [22, 23, 24, 27, 33, 31, 26, 32, 29, 36, 34, 35, 39, 38]\n",
      "The median  20 Sum of median  503\n",
      "Low Heap [-20, -19, -17, -13, -15, -9, -16, -6, -5, -1, -8, -4, -7, -14, -2] High Heap [21, 23, 22, 27, 33, 31, 24, 32, 29, 36, 34, 35, 39, 38, 26]\n",
      "The median  21 Sum of median  524\n",
      "Low Heap [-21, -20, -17, -19, -15, -9, -16, -13, -5, -1, -8, -4, -7, -14, -2, -6] High Heap [22, 23, 24, 27, 33, 31, 26, 30, 29, 36, 34, 35, 39, 38, 32]\n",
      "The median  21 Sum of median  545\n",
      "Low Heap [-21, -20, -17, -19, -15, -9, -16, -13, -5, -1, -8, -4, -7, -14, -2, -6] High Heap [22, 23, 24, 27, 33, 31, 26, 30, 29, 36, 34, 35, 39, 38, 32, 40]\n",
      "The median  22 Sum of median  567\n",
      "Low Heap [-22, -21, -17, -20, -15, -9, -16, -19, -5, -1, -8, -4, -7, -14, -2, -6, -13] High Heap [23, 25, 24, 27, 33, 31, 26, 30, 29, 36, 34, 35, 39, 38, 32, 40]\n",
      "The median  22 Sum of median  589\n",
      "Low Heap [-22, -21, -17, -20, -15, -9, -16, -19, -5, -1, -8, -4, -7, -14, -2, -6, -13] High Heap [23, 25, 24, 27, 33, 31, 26, 28, 29, 36, 34, 35, 39, 38, 32, 40, 30]\n",
      "The median  22 Sum of median  611\n",
      "Low Heap [-22, -21, -17, -20, -15, -9, -16, -19, -11, -1, -8, -4, -7, -14, -2, -6, -13, -5] High Heap [23, 25, 24, 27, 33, 31, 26, 28, 29, 36, 34, 35, 39, 38, 32, 40, 30]\n",
      "The median  22 Sum of median  633\n",
      "Low Heap [-22, -21, -17, -20, -15, -9, -16, -19, -11, -1, -8, -4, -7, -14, -2, -6, -13, -5] High Heap [23, 25, 24, 27, 33, 31, 26, 28, 29, 36, 34, 35, 39, 38, 32, 40, 30, 37]\n",
      "The median  22 Sum of median  655\n",
      "Low Heap [-22, -21, -17, -20, -15, -9, -16, -19, -11, -1, -8, -4, -7, -14, -2, -6, -13, -5, -3] High Heap [23, 25, 24, 27, 33, 31, 26, 28, 29, 36, 34, 35, 39, 38, 32, 40, 30, 37]\n",
      "The median  21 Sum of median  676\n",
      "Low Heap [-21, -20, -17, -19, -15, -9, -16, -13, -11, -10, -8, -4, -7, -14, -2, -6, -1, -5, -3] High Heap [22, 23, 24, 25, 33, 31, 26, 28, 27, 36, 34, 35, 39, 38, 32, 40, 30, 37, 29]\n",
      "The median  21 Sum of median  697\n",
      "Low Heap [-21, -20, -17, -19, -18, -9, -16, -13, -11, -15, -8, -4, -7, -14, -2, -6, -1, -5, -3, -10] High Heap [22, 23, 24, 25, 33, 31, 26, 28, 27, 36, 34, 35, 39, 38, 32, 40, 30, 37, 29]\n",
      "The median  20 Sum of median  717\n",
      "Low Heap [-20, -19, -17, -13, -18, -9, -16, -12, -11, -15, -8, -4, -7, -14, -2, -6, -1, -5, -3, -10] High Heap [21, 22, 24, 25, 23, 31, 26, 28, 27, 33, 34, 35, 39, 38, 32, 40, 30, 37, 29, 36]\n"
     ]
    }
   ],
   "source": [
    "#This is tupavov test array from forum\n",
    "tup=[23,9,35,4,13,24,2,5,27,1,34,8,15,39,32,22,29,21,19,20,36,33,7,31,14,17,26,16,38,6,30,40,25,28,11,37,3,10,18,12]\n",
    "global lowH\n",
    "global highH\n",
    "lowH=[]\n",
    "highH=[]\n",
    "heapq.heapify(lowH)\n",
    "heapq.heapify(highH)\n",
    "result=[]\n",
    "for l in tup:\n",
    "    result.append(medMaint(l))\n",
    "    print('The median ',result[-1],'Sum of median ', np.sum(np.array(result)))\n",
    "    print('Low Heap', lowH, 'High Heap', highH)"
   ]
  },
  {
   "cell_type": "code",
   "execution_count": 33,
   "metadata": {},
   "outputs": [
    {
     "name": "stdout",
     "output_type": "stream",
     "text": [
      "Test Case  10_40\n",
      "Correct? True\n",
      "Test Case  11_40\n",
      "Correct? True\n",
      "Test Case  12_40\n",
      "Correct? True\n",
      "Test Case  13_80\n",
      "Correct? True\n",
      "Test Case  14_80\n",
      "Correct? True\n",
      "Test Case  15_80\n",
      "Correct? True\n",
      "Test Case  16_80\n",
      "Correct? True\n",
      "Test Case  17_160\n",
      "Correct? True\n",
      "Test Case  18_160\n",
      "Correct? True\n",
      "Test Case  19_160\n",
      "Correct? True\n",
      "Test Case  1_10\n",
      "Correct? True\n",
      "Test Case  20_160\n",
      "Correct? True\n",
      "Test Case  21_320\n",
      "Correct? True\n",
      "Test Case  22_320\n",
      "Correct? True\n",
      "Test Case  23_320\n",
      "Correct? True\n",
      "Test Case  24_320\n",
      "Correct? True\n",
      "Test Case  25_640\n",
      "Correct? True\n",
      "Test Case  26_640\n",
      "Correct? True\n",
      "Test Case  27_640\n",
      "Correct? True\n",
      "Test Case  28_640\n",
      "Correct? True\n",
      "Test Case  29_1280\n",
      "Correct? True\n",
      "Test Case  2_10\n",
      "Correct? True\n",
      "Test Case  30_1280\n",
      "Correct? True\n",
      "Test Case  31_1280\n",
      "Correct? True\n",
      "Test Case  32_1280\n",
      "Correct? True\n",
      "Test Case  33_2560\n",
      "Correct? True\n",
      "Test Case  34_2560\n",
      "Correct? True\n",
      "Test Case  35_2560\n",
      "Correct? True\n",
      "Test Case  36_2560\n",
      "Correct? True\n",
      "Test Case  37_5120\n",
      "Correct? True\n",
      "Test Case  38_5120\n",
      "Correct? True\n",
      "Test Case  39_5120\n",
      "Correct? True\n",
      "Test Case  3_10\n",
      "Correct? True\n",
      "Test Case  40_5120\n",
      "Correct? True\n",
      "Test Case  41_10000\n",
      "Correct? True\n",
      "Test Case  42_10000\n",
      "Correct? True\n",
      "Test Case  43_10000\n",
      "Correct? True\n",
      "Test Case  44_10000\n",
      "Correct? True\n",
      "Test Case  4_10\n",
      "Correct? True\n",
      "Test Case  5_20\n",
      "Correct? True\n",
      "Test Case  6_20\n",
      "Correct? True\n",
      "Test Case  7_20\n",
      "Correct? True\n",
      "Test Case  8_20\n",
      "Correct? True\n",
      "Test Case  9_40\n",
      "Correct? True\n"
     ]
    }
   ],
   "source": [
    "#Test cases\n",
    "sys.setrecursionlimit(800000)\n",
    "threading.stack_size(67108864)\n",
    "\n",
    "\n",
    "def main():\n",
    "    #run this stuff\n",
    "    for j in listCases:\n",
    "        #reinitialize each time\n",
    "        global lowH\n",
    "        global highH\n",
    "        lowH=[]\n",
    "        highH=[]\n",
    "        heapq.heapify(lowH)\n",
    "        heapq.heapify(highH)\n",
    "        result=[]\n",
    "        slist=testInputs[j]\n",
    "        print('Test Case ',j)\n",
    "        for l in slist:\n",
    "            result.append(medMaint(l))\n",
    "        #print(result)\n",
    "        print('Correct?',np.sum(np.array(result))%10000==testAnswers[j][0])\n",
    "thread = threading.Thread(target=main)\n",
    "thread.start()"
   ]
  },
  {
   "cell_type": "code",
   "execution_count": null,
   "metadata": {
    "collapsed": true
   },
   "outputs": [],
   "source": []
  },
  {
   "cell_type": "markdown",
   "metadata": {},
   "source": [
    "### Real Case\n",
    "\n",
    "<br>\n",
    "Remember\n"
   ]
  },
  {
   "cell_type": "code",
   "execution_count": 34,
   "metadata": {},
   "outputs": [
    {
     "name": "stdout",
     "output_type": "stream",
     "text": [
      "1213\n"
     ]
    }
   ],
   "source": [
    "#Test cases\n",
    "sys.setrecursionlimit(800000)\n",
    "threading.stack_size(67108864)\n",
    "\n",
    "\n",
    "def main():\n",
    "    #run this stuff\n",
    "        #reinitialize each time\n",
    "    global lowH\n",
    "    global highH\n",
    "    lowH=[]\n",
    "    highH=[]\n",
    "    heapq.heapify(lowH)\n",
    "    heapq.heapify(highH)\n",
    "    result=[]\n",
    "    for l in inputList:\n",
    "        result.append(medMaint(l))\n",
    "    print(np.sum(np.array(result))%10000)#\n",
    "thread = threading.Thread(target=main)\n",
    "thread.start()"
   ]
  },
  {
   "cell_type": "code",
   "execution_count": null,
   "metadata": {
    "collapsed": true
   },
   "outputs": [],
   "source": []
  }
 ],
 "metadata": {
  "kernelspec": {
   "display_name": "Python 3",
   "language": "python",
   "name": "python3"
  },
  "language_info": {
   "codemirror_mode": {
    "name": "ipython",
    "version": 3
   },
   "file_extension": ".py",
   "mimetype": "text/x-python",
   "name": "python",
   "nbconvert_exporter": "python",
   "pygments_lexer": "ipython3",
   "version": "3.6.2"
  }
 },
 "nbformat": 4,
 "nbformat_minor": 2
}
