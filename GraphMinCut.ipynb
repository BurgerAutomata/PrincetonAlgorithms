{
 "cells": [
  {
   "cell_type": "markdown",
   "metadata": {
    "colab_type": "text",
    "id": "view-in-github"
   },
   "source": [
    "[View in Colaboratory](https://colab.research.google.com/github/BurgerAutomata/PrincetonAlgorithms/blob/master/GraphMinCut.ipynb)"
   ]
  },
  {
   "cell_type": "markdown",
   "metadata": {
    "colab_type": "text",
    "id": "4trzv0fuelUL"
   },
   "source": [
    "# Programming Assignment 4\n",
    "<br>\n",
    "\n",
    "find the minimum cut of a graph.\n",
    "<br>\n",
    "Your task is to code up and run the randomized contraction algorithm for the min cut problem and use it on the above graph to compute the min cut. (HINT: Note that you'll have to figure out an implementation of edge contractions. Initially, you might want to do this naively, creating a new graph from the old every time there's an edge contraction. But you should also think about more efficient implementations.) (WARNING: As per the video lectures, please make sure to run the algorithm many times with different random seeds, and remember the smallest cut that you ever find.) Write your numeric answer in the space provided. So e.g., if your answer is 5, just type 5 in the space provided.\n",
    "<br>\n",
    "Types yet unimplemented\n",
    "<br>\n",
    "+https://teacode.wordpress.com/2013/07/19/karger-min-cut-problem/\n",
    "\n",
    "+https://datarecipe.wordpress.com/2015/07/23/python-practice-kargers-contraction-min-cut-algorithm/\n",
    "\n",
    "+https://stackoverflow.com/questions/49810171/karger-min-cut-for-coursera-algorithms-course-python-3-6\n"
   ]
  },
  {
   "cell_type": "code",
   "execution_count": 2,
   "metadata": {
    "colab": {},
    "colab_type": "code",
    "collapsed": true,
    "id": "0lohTw1yekqV"
   },
   "outputs": [],
   "source": [
    "import numpy as np\n",
    "import sys\n",
    "import pandas as pd\n",
    "import random as rnd\n",
    "import copy"
   ]
  },
  {
   "cell_type": "code",
   "execution_count": 33,
   "metadata": {
    "colab": {
     "base_uri": "https://localhost:8080/",
     "height": 89,
     "resources": {
      "http://localhost:8080/nbextensions/google.colab/files.js": {
       "data": "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",
       "headers": [
        [
         "content-type",
         "application/javascript"
        ]
       ],
       "ok": true,
       "status": 200,
       "status_text": ""
      }
     }
    },
    "colab_type": "code",
    "collapsed": true,
    "id": "sMiMJBwMeqcR",
    "outputId": "42f693bc-9609-4656-d0cf-aa70893e6d81"
   },
   "outputs": [],
   "source": [
    "#neat import from local files\n",
    "#local_file=pd.read_table('kargerMinCut.txt',header=None,sep=\"\\t\",lineterminator='\\r')\n",
    "#From the forum, much more efficient because this is a \"frayed\" array\n",
    "input_file = 'kargerMinCut.txt'\n",
    "with open(input_file, 'r') as data:\n",
    "    line = data.read().strip().split(\"\\n\")\n",
    "\n",
    "graph_dict = {}\n",
    "for element in line:\n",
    "    line_list = list(map(int, element.strip().split(\"\\t\")))\n",
    "    graph_dict[str(line_list[0])] = line_list[1:]"
   ]
  },
  {
   "cell_type": "code",
   "execution_count": 36,
   "metadata": {
    "colab": {
     "base_uri": "https://localhost:8080/",
     "height": 87
    },
    "colab_type": "code",
    "id": "S7n6-gjwfIa0",
    "outputId": "117298df-ba5e-4732-f912-1514f1d9277f"
   },
   "outputs": [
    {
     "data": {
      "text/plain": [
       "str"
      ]
     },
     "execution_count": 36,
     "metadata": {},
     "output_type": "execute_result"
    }
   ],
   "source": [
    "#Points in the graph\n",
    "type(list(graph_dict.keys())[1])\n",
    "#graph_dict['1']"
   ]
  },
  {
   "cell_type": "code",
   "execution_count": 6,
   "metadata": {},
   "outputs": [],
   "source": [
    "#Test cases\n",
    "test_Dict={'A':{'1': [2, 3, 4, 7],'2': [1, 3, 4],'3': [1,2,4],'4': [1,2,3,5],'5': [4,6,7,8],'6': [5,7,8],'7': [1,5,6,8],'8': [5,6,7]},\n",
    "           'B':{'1': [4,2,7,3],'2': [4,1,3],'3': [1,2,4],'4': [5,1,2,3],'5': [8,7,6,4],'6': [8,5,7],'7': [6,8,5,1],'8': [7,6,5]},\n",
    "            'C':{'1': [2,3,4],'2': [1,3,4],'3': [1,2,4],'4': [1,2,3,5],'5': [4,6,7,8],'6': [5,7,8],'7': [5,6,8],'8': [5,6,7]},\n",
    "          'D':{'1': [3,4,2],'2': [1,4,3],'3': [1,2,4],'4': [5,3,2,1],'5': [4,8,6,7],'6': [8,7,5],'7': [5,8,6],'8': [5,7,6]},\n",
    "          'E':{'1': [19,15,36,23,18,39],'2': [36,23,4,18,26,9],'3': [35,6,16,11],'4': [23,2,18,24],'5': [14,8,29,21],'6': [34,35,3,16],\n",
    "                '7': [30,33,38,28],'8': [12,14,5,29,31],'9': [39,13,20,10,17,2],'10': [9,20,12,14,29],'11': [3,16,30,33,26],\n",
    "               '12': [20,10,14,8],'13': [24,39,9,20],'14': [10,12,8,5],'15': [26,19,1,36],'16': [6,3,11,30,17,35,32],\n",
    "                '17': [38,28,32,40,9,16],'18': [2,4,24,39,1],'19': [27,26,15,1],'20': [13,9,10,12],'21': [5,29,25,37],\n",
    "                '22': [32,40,34,35],'23': [1,36,2,4],'24': [4,18,39,13],'25': [29,21,37,31],'26': [31,27,19,15,11,2],\n",
    "                '27': [37,31,26,19,29],'28': [7,38,17,32],'29': [8,5,21,25,10,27],'30': [16,11,33,7,37],'31': [25,37,27,26,8],\n",
    "                '32': [28,17,40,22,16],'33': [11,30,7,38],'34': [40,22,35,6],'35': [22,34,6,3,16],'36': [15,1,23,2],\n",
    "                '37': [21,25,31,27,30],'38': [33,7,28,17,40],'39': [18,24,13,9,1],'40': [17,32,22,34,38]},\n",
    "          'F':{'1': [2,3,4,5],'2': [3,4,1],'3': [4,1,2],'4': [1,2,3,8],'5': [1,6,7,8],'6': [7,8,5],'7': [8,5,6],'8': [ 4,6,5,7]}}\n",
    "\n",
    "\n",
    "ans_Dict={'A':2,'B':2,'C':1,'D':1,'E':3,'F':2}\n"
   ]
  },
  {
   "cell_type": "code",
   "execution_count": 7,
   "metadata": {},
   "outputs": [
    {
     "name": "stdout",
     "output_type": "stream",
     "text": [
      "[2, 3, 4, 7]\n",
      "[1, 3, 4]\n",
      "6\n",
      "<class 'str'>\n",
      "[5, 7, 8]\n",
      "5\n",
      "<class 'int'>\n",
      "4\n"
     ]
    }
   ],
   "source": [
    "len(test_Dict['A'])\n",
    "#verify that len actually sees the number of keys\n",
    "\n",
    "#try out update method\n",
    "txt1=test_Dict['A'].copy()\n",
    "print(txt1['1'])\n",
    "print(txt1['2'])\n",
    "indChos=rnd.choice(list(txt1.keys()))\n",
    "print(indChos)\n",
    "print(type(indChos))\n",
    "print(txt1[indChos])\n",
    "chosenVertex=rnd.choice(txt1[indChos])\n",
    "print(chosenVertex)\n",
    "print(type(chosenVertex))\n",
    "print(txt1['1'][2])"
   ]
  },
  {
   "cell_type": "markdown",
   "metadata": {},
   "source": [
    "expected result: 2\n",
    "\n",
    "cuts are [(1,7), (4,5)]\n",
    "\n",
    "(randomly permuting the adjacency list, should get same result):\n",
    "\n",
    "\n",
    "expected result: 2\n",
    "\n",
    "cuts are [(1,7), (4,5)]\n",
    "\n",
    "\n",
    "\n",
    "expected result: 1\n",
    "\n",
    "cut is [(4,5)]\n",
    "\n",
    "(randomly permuting the adjacency list, should get same result):\n",
    "\n",
    "\n",
    "expected result: 1\n",
    "\n",
    "cut is [(4,5)]\n",
    "\n",
    "\n",
    "expected result: 3\n",
    "\n",
    "\n",
    "mincut=2"
   ]
  },
  {
   "cell_type": "markdown",
   "metadata": {},
   "source": [
    "## Counter Implementation\n",
    "This link provides a particularly interesting case, as it does not use classes<br>\n",
    "However it seems maybe it works in Python 2\n",
    "<br>\n",
    "https://github.com/reetawwsum/Karger-Min-Cut/blob/master/karger.py"
   ]
  },
  {
   "cell_type": "code",
   "execution_count": 8,
   "metadata": {},
   "outputs": [
    {
     "ename": "AttributeError",
     "evalue": "'dict' object has no attribute 'itervalues'",
     "output_type": "error",
     "traceback": [
      "\u001b[1;31m---------------------------------------------------------------------------\u001b[0m",
      "\u001b[1;31mAttributeError\u001b[0m                            Traceback (most recent call last)",
      "\u001b[1;32m<ipython-input-8-b83b1f68a5f3>\u001b[0m in \u001b[0;36m<module>\u001b[1;34m()\u001b[0m\n\u001b[0;32m     31\u001b[0m                 \u001b[0mg\u001b[0m\u001b[1;33m[\u001b[0m\u001b[0mints\u001b[0m\u001b[1;33m[\u001b[0m\u001b[1;36m0\u001b[0m\u001b[1;33m]\u001b[0m\u001b[1;33m]\u001b[0m \u001b[1;33m=\u001b[0m \u001b[0mCounter\u001b[0m\u001b[1;33m(\u001b[0m\u001b[0mints\u001b[0m\u001b[1;33m[\u001b[0m\u001b[1;36m1\u001b[0m\u001b[1;33m:\u001b[0m\u001b[1;33m]\u001b[0m\u001b[1;33m)\u001b[0m\u001b[1;33m\u001b[0m\u001b[0m\n\u001b[0;32m     32\u001b[0m \u001b[1;33m\u001b[0m\u001b[0m\n\u001b[1;32m---> 33\u001b[1;33m \u001b[0mcuts\u001b[0m \u001b[1;33m=\u001b[0m \u001b[1;33m[\u001b[0m\u001b[0mkargerMinCut\u001b[0m\u001b[1;33m(\u001b[0m\u001b[0mdeepcopy\u001b[0m\u001b[1;33m(\u001b[0m\u001b[0mg\u001b[0m\u001b[1;33m)\u001b[0m\u001b[1;33m)\u001b[0m \u001b[1;32mfor\u001b[0m \u001b[0mx\u001b[0m \u001b[1;32min\u001b[0m \u001b[0mrange\u001b[0m\u001b[1;33m(\u001b[0m\u001b[1;36m5\u001b[0m\u001b[1;33m)\u001b[0m\u001b[1;33m]\u001b[0m\u001b[1;33m\u001b[0m\u001b[0m\n\u001b[0m",
      "\u001b[1;32m<ipython-input-8-b83b1f68a5f3>\u001b[0m in \u001b[0;36m<listcomp>\u001b[1;34m(.0)\u001b[0m\n\u001b[0;32m     31\u001b[0m                 \u001b[0mg\u001b[0m\u001b[1;33m[\u001b[0m\u001b[0mints\u001b[0m\u001b[1;33m[\u001b[0m\u001b[1;36m0\u001b[0m\u001b[1;33m]\u001b[0m\u001b[1;33m]\u001b[0m \u001b[1;33m=\u001b[0m \u001b[0mCounter\u001b[0m\u001b[1;33m(\u001b[0m\u001b[0mints\u001b[0m\u001b[1;33m[\u001b[0m\u001b[1;36m1\u001b[0m\u001b[1;33m:\u001b[0m\u001b[1;33m]\u001b[0m\u001b[1;33m)\u001b[0m\u001b[1;33m\u001b[0m\u001b[0m\n\u001b[0;32m     32\u001b[0m \u001b[1;33m\u001b[0m\u001b[0m\n\u001b[1;32m---> 33\u001b[1;33m \u001b[0mcuts\u001b[0m \u001b[1;33m=\u001b[0m \u001b[1;33m[\u001b[0m\u001b[0mkargerMinCut\u001b[0m\u001b[1;33m(\u001b[0m\u001b[0mdeepcopy\u001b[0m\u001b[1;33m(\u001b[0m\u001b[0mg\u001b[0m\u001b[1;33m)\u001b[0m\u001b[1;33m)\u001b[0m \u001b[1;32mfor\u001b[0m \u001b[0mx\u001b[0m \u001b[1;32min\u001b[0m \u001b[0mrange\u001b[0m\u001b[1;33m(\u001b[0m\u001b[1;36m5\u001b[0m\u001b[1;33m)\u001b[0m\u001b[1;33m]\u001b[0m\u001b[1;33m\u001b[0m\u001b[0m\n\u001b[0m",
      "\u001b[1;32m<ipython-input-8-b83b1f68a5f3>\u001b[0m in \u001b[0;36mkargerMinCut\u001b[1;34m(g)\u001b[0m\n\u001b[0;32m     24\u001b[0m                         \u001b[0mgw\u001b[0m\u001b[1;33m[\u001b[0m\u001b[0mu\u001b[0m\u001b[1;33m]\u001b[0m \u001b[1;33m+=\u001b[0m \u001b[0mgw\u001b[0m\u001b[1;33m[\u001b[0m\u001b[0mv\u001b[0m\u001b[1;33m]\u001b[0m\u001b[1;33m\u001b[0m\u001b[0m\n\u001b[0;32m     25\u001b[0m                         \u001b[1;32mdel\u001b[0m \u001b[0mgw\u001b[0m\u001b[1;33m[\u001b[0m\u001b[0mv\u001b[0m\u001b[1;33m]\u001b[0m\u001b[1;33m\u001b[0m\u001b[0m\n\u001b[1;32m---> 26\u001b[1;33m         \u001b[1;32mreturn\u001b[0m \u001b[0mg\u001b[0m\u001b[1;33m.\u001b[0m\u001b[0mitervalues\u001b[0m\u001b[1;33m(\u001b[0m\u001b[1;33m)\u001b[0m\u001b[1;33m.\u001b[0m\u001b[0mnext\u001b[0m\u001b[1;33m(\u001b[0m\u001b[1;33m)\u001b[0m\u001b[1;33m.\u001b[0m\u001b[0mmost_common\u001b[0m\u001b[1;33m(\u001b[0m\u001b[1;36m1\u001b[0m\u001b[1;33m)\u001b[0m\u001b[1;33m[\u001b[0m\u001b[1;36m0\u001b[0m\u001b[1;33m]\u001b[0m\u001b[1;33m[\u001b[0m\u001b[1;36m1\u001b[0m\u001b[1;33m]\u001b[0m\u001b[1;33m\u001b[0m\u001b[0m\n\u001b[0m\u001b[0;32m     27\u001b[0m \u001b[1;33m\u001b[0m\u001b[0m\n\u001b[0;32m     28\u001b[0m \u001b[1;32mwith\u001b[0m \u001b[0mopen\u001b[0m\u001b[1;33m(\u001b[0m\u001b[1;34m'kargerMinCut.txt'\u001b[0m\u001b[1;33m,\u001b[0m \u001b[1;34m'r'\u001b[0m\u001b[1;33m)\u001b[0m \u001b[1;32mas\u001b[0m \u001b[0mgraphInput\u001b[0m\u001b[1;33m:\u001b[0m\u001b[1;33m\u001b[0m\u001b[0m\n",
      "\u001b[1;31mAttributeError\u001b[0m: 'dict' object has no attribute 'itervalues'"
     ]
    }
   ],
   "source": [
    "from random import choice\n",
    "from collections import Counter\n",
    "from copy import deepcopy\n",
    "\n",
    "g = {}\n",
    "\n",
    "def kargerMinCut(g):\n",
    "\twhile len(g) > 2:\n",
    "\t\t#Selecting a random vertex\n",
    "\t\tu = choice(list(g.keys()))\n",
    "\t\tgu = g[u]\n",
    "\t\t#Selecting most comman vertex among the previously chosen random vertex\n",
    "\t\tv = gu.most_common(1)[0][0]\n",
    "\t\tgv = g[v]\n",
    "\t\t#Deleting second vertex from the graph\n",
    "\t\tdel g[v]\n",
    "\t\t#Deleting self loop\n",
    "\t\tdel gv[u]\n",
    "\t\tdel gu[v]\n",
    "\t\t#Merging second vertex into first vertex\n",
    "\t\tgu.update(gv)\n",
    "\t\tfor w in gv:\n",
    "\t\t\tgw = g[w]\n",
    "\t\t\tgw[u] += gw[v]\n",
    "\t\t\tdel gw[v]\n",
    "\treturn g.itervalues().next().most_common(1)[0][1]\n",
    "\n",
    "with open('kargerMinCut.txt', 'r') as graphInput:\n",
    "\tfor line in graphInput:\n",
    "\t\tints = [int(x) for x in line.split()]\n",
    "\t\tg[ints[0]] = Counter(ints[1:])\n",
    "\n",
    "cuts = [kargerMinCut(deepcopy(g)) for x in range(5)]"
   ]
  },
  {
   "cell_type": "markdown",
   "metadata": {},
   "source": [
    "## Data Recipe implementation\n",
    "Another one based on classes. This one seems to be quite slow."
   ]
  },
  {
   "cell_type": "code",
   "execution_count": null,
   "metadata": {},
   "outputs": [],
   "source": [
    "import random\n",
    " \n",
    "class Node:\n",
    "    def __init__(self, id):\n",
    "        self.id = id\n",
    "        self.edges = {}\n",
    "    def add(self, id, num):\n",
    "        if id != self.id:\n",
    "            self.edges[id] = self.edges.get(id, 0) + num \n",
    "    def remove(self, id):\n",
    "        try:\n",
    "            del self.edges[id]\n",
    "        except KeyError:\n",
    "            pass\n",
    "    def merge(self, id1, id2):\n",
    "        if id2 in self.edges:\n",
    "            self.edges[id1] = self.edges.get(id1, 0) + self.edges[id2]            \n",
    "            self.remove(id2)\n",
    "    def size(self):\n",
    "        return sum(self.edges.values())\n",
    "    def copy(self):\n",
    "        node = Node(self.id)\n",
    "        node.edges = dict(self.edges)\n",
    "        return node\n",
    "    def __equals__(self, other):\n",
    "        return self.id == other.id\n",
    "    def __str__(self):\n",
    "        return str({self.id : self.edges})\n",
    " \n",
    " \n",
    "class graph:\n",
    "    def __init__(self, nodes): \n",
    "        self.nodes = {node.id : node.copy() for node in nodes}\n",
    "    def combine(self, id1, id2):\n",
    "        if id1 not in self.nodes or id2 not in self.nodes[id1].edges:\n",
    "            return\n",
    "        for id in self.nodes[id2].edges:\n",
    "            self.nodes[id1].add(id, self.nodes[id2].edges[id])\n",
    "        try:\n",
    "            del self.nodes[id2]\n",
    "            del self.nodes[id1].edges[id2]\n",
    "        except KeyError:\n",
    "            pass\n",
    "        for id in self.nodes:\n",
    "            self.nodes[id].merge(id1, id2)\n",
    "    def randomCombine(self):\n",
    "        node1 = random.choice(list(self.nodes.values()))\n",
    "        id1 = node1.id\n",
    "        id2 = random.choice(list(node1.edges.keys()))\n",
    "        self.combine(id1, id2)\n",
    "    def size(self):\n",
    "        return len(self.nodes)\n",
    "    def __str__(self):\n",
    "        return '\\n'.join([str(node) for node in self.nodes.values()])\n",
    " \n",
    " \n",
    "f = open('./kargerMinCut.txt', 'r')\n",
    "lines = f.readlines()\n",
    "n = len(lines)\n",
    "nodes = []\n",
    "for line in lines:\n",
    "    ids = [int(id) for id in line.split()]\n",
    "    node = Node(ids[0])\n",
    "    for id in ids[1:]:\n",
    "        node.add(id,1)\n",
    "    nodes.append(node)\n",
    " \n",
    "rawSet = graph(nodes)\n",
    "#print(rawSet)\n",
    " \n",
    "cuts = []\n",
    "for i in range(n**2):\n",
    "    rawSet = graph(nodes)\n",
    "    while rawSet.size() > 2:\n",
    "        rawSet.randomCombine()\n",
    "    id1 = list(rawSet.nodes.keys())[0]\n",
    "    id2 = list(rawSet.nodes.keys())[1]\n",
    "    size1 = rawSet.nodes[id1].size()\n",
    "    size2 = rawSet.nodes[id2].size()\n",
    "    assert size1 == size2, \"Node size not equal: %d and %d\" % (size1, size2)\n",
    "    cuts.append(size1)\n",
    " \n",
    "min(cuts)"
   ]
  },
  {
   "cell_type": "markdown",
   "metadata": {},
   "source": [
    "## My Implementation\n",
    "<br> instead is our implementation"
   ]
  },
  {
   "cell_type": "code",
   "execution_count": 52,
   "metadata": {
    "colab": {},
    "colab_type": "code",
    "id": "WCfyev8RgM5g"
   },
   "outputs": [],
   "source": [
    "#algorithm\n",
    "def minCut(graph):\n",
    "    listCuts=[]\n",
    "    #Internal deep copy for safety\n",
    "    graphInt=copy.deepcopy(graph)\n",
    "    \n",
    "    #reduce graph in place, as we do a copy anyway\n",
    "    #This loop stops when there is only 2 nodes left\n",
    "    while len(graphInt)>2:\n",
    "        #inner loop where cut happens\n",
    "        #The following is an attempt to represent picking any edge at random.\n",
    "        #The Edge will be (cutSelect1, cutSelect2)\n",
    "        #select node. This is a STRING\n",
    "        cutSelect1=rnd.choice(list(graphInt.keys()))\n",
    "        #print('First Node selected ', cutSelect1)\n",
    "        #select node connected to previous. Remember this is an INT\n",
    "        cutSelect2=rnd.choice(graphInt[cutSelect1])\n",
    "        #print('Second Node selected ', cutSelect2)\n",
    "\n",
    "        #collapse them together in a temporary node\n",
    "        tempNode=graphInt[cutSelect1]+graphInt[str(cutSelect2)]\n",
    "        #print('temporary collapse ', tempNode)\n",
    "        #Remove references to itself, so to first and second node\n",
    "        tempNode=[i for i in tempNode if (i!=int(cutSelect1) and (i!=cutSelect2))]\n",
    "        #print('cleaned collapse ', tempNode)\n",
    "        #remove second vertex from graph\n",
    "        #print('Check the changes A',graphInt)\n",
    "        del graphInt[str(cutSelect2)]\n",
    "        #Change first vertex to new list\n",
    "        graphInt[cutSelect1]=tempNode.copy()\n",
    "        #print('Check the changes B',graphInt)\n",
    "\n",
    "        #Change reference in all other nodes?\n",
    "        for j in list(graphInt.keys()):\n",
    "            #j should be a string\n",
    "            #skip at least this node\n",
    "            if j!=cutSelect1:\n",
    "                #print('Working on connections of node ',j,' ',graphInt[j])\n",
    "                for i,k in enumerate(graphInt[j]):\n",
    "                    #i should be int INDEX, k the actual list element\n",
    "                    \n",
    "                    if k ==cutSelect2:\n",
    "                        graphInt[j][i]=int(cutSelect1)\n",
    "        \n",
    "                #print('Modified connections ', graphInt[j] )\n",
    "        #remove self loops\n",
    "        #print('Check the changes C',graphInt)\n",
    "\n",
    "    #Should count the amounts of links left\n",
    "    #print(graphInt)\n",
    "    listCuts=graphInt[list(graphInt.keys())[0]]\n",
    "    #print(len(listCuts))\n",
    "    return len(listCuts)\n",
    "\n",
    "def repeatMinCut(graph):\n",
    "    #execute the same loop many times\n",
    "    listMins=[]\n",
    "    for i in range(len(graph)*5):\n",
    "        curMin=minCut(graph)\n",
    "        listMins.append(curMin)\n",
    "    return min(listMins)\n",
    "        "
   ]
  },
  {
   "cell_type": "code",
   "execution_count": 39,
   "metadata": {
    "scrolled": false
   },
   "outputs": [
    {
     "data": {
      "text/plain": [
       "'for name in tests:\\n    loc_test=test_Dict[name].copy()\\n    loc_answ=ans_Dict[name]\\n    listCuts,minCuts=minCut(loc_test)\\n    #Verify results\\n    print(minCuts)'"
      ]
     },
     "execution_count": 39,
     "metadata": {},
     "output_type": "execute_result"
    }
   ],
   "source": [
    "#Test loop\n",
    "tests=['A','B','C','D','E','F']\n",
    "minCut(test_Dict['C'])\n",
    "'''for name in tests:\n",
    "    loc_test=test_Dict[name].copy()\n",
    "    loc_answ=ans_Dict[name]\n",
    "    listCuts,minCuts=minCut(loc_test)\n",
    "    #Verify results\n",
    "    print(minCuts)'''\n",
    "    \n",
    "    "
   ]
  },
  {
   "cell_type": "code",
   "execution_count": 53,
   "metadata": {},
   "outputs": [
    {
     "data": {
      "text/plain": [
       "3"
      ]
     },
     "execution_count": 53,
     "metadata": {},
     "output_type": "execute_result"
    }
   ],
   "source": [
    "repeatMinCut(test_Dict['E'])"
   ]
  },
  {
   "cell_type": "code",
   "execution_count": 54,
   "metadata": {},
   "outputs": [
    {
     "data": {
      "text/plain": [
       "17"
      ]
     },
     "execution_count": 54,
     "metadata": {},
     "output_type": "execute_result"
    }
   ],
   "source": [
    "repeatMinCut(graph_dict)"
   ]
  },
  {
   "cell_type": "code",
   "execution_count": null,
   "metadata": {
    "collapsed": true
   },
   "outputs": [],
   "source": []
  }
 ],
 "metadata": {
  "colab": {
   "collapsed_sections": [],
   "include_colab_link": true,
   "name": "GraphMinCut.ipynb",
   "provenance": [],
   "version": "0.3.2"
  },
  "kernelspec": {
   "display_name": "Python 3",
   "language": "python",
   "name": "python3"
  },
  "language_info": {
   "codemirror_mode": {
    "name": "ipython",
    "version": 3
   },
   "file_extension": ".py",
   "mimetype": "text/x-python",
   "name": "python",
   "nbconvert_exporter": "python",
   "pygments_lexer": "ipython3",
   "version": "3.6.2"
  }
 },
 "nbformat": 4,
 "nbformat_minor": 1
}
